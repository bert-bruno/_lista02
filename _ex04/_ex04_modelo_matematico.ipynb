{
 "cells": [
  {
   "cell_type": "markdown",
   "metadata": {},
   "source": [
    "# Exercício 4\n",
    "\n",
    "Seis trabalhadores devem ser designados para seis diferentes trabalhos, cada qual devendo ser executado em um tipo diferente de máquina. Registros passados fornecem as performances individuais para os seis trabalhadores, em minutos conforme o quadro apresentado a seguir. O objetivo é designar os indivíduos aos trabalhos de tal maneira que o tempo seja minimizado.\n",
    "\n",
    "|    **i\\j**   \t| **Tarefa 1** \t| **Tarefa 2** \t| **Tarefa 3** \t| **Tarefa 4** \t| **Tarefa 5** \t| **Tarefa 6** \t|\n",
    "|:------------:\t|:------------:\t|:------------:\t|:------------:\t|:------------:\t|:------------:\t|:------------:\t|\n",
    "|  **Arinei**  \t|      13      \t|      22      \t|      19      \t|      21      \t|      16      \t|      20      \t|\n",
    "|   **Deisi**  \t|      18      \t|      17      \t|      24      \t|      18      \t|      22      \t|      27      \t|\n",
    "|   **Luzia**  \t|      20      \t|      22      \t|      23      \t|      24      \t|      17      \t|      31      \t|\n",
    "|   **Neiva**  \t|      14      \t|      19      \t|      13      \t|      30      \t|      23      \t|      22      \t|\n",
    "|   **Paulo**  \t|      21      \t|      14      \t|      17      \t|      25      \t|      15      \t|      23      \t|\n",
    "| **Wladimir** \t|      17      \t|      23      \t|      18      \t|      20      \t|      16      \t|      24      \t|\n",
    "\n",
    "# Solução\n",
    "\n",
    "## Modelo Matemático\n",
    "\n",
    "### Função Objetivo\n",
    "\n",
    "$$ min \\ Z = \\sum_{i \\in I} \\sum_{j \\in J} c_{ij}x_{ij} $$\n",
    "\n",
    "### Sujeito a\n",
    "\n",
    "$$\n",
    "\\sum_{i \\in I} x_{ij} = 1, \\ \\forall j \\in J \\ \\dots \\ (1)\n",
    "$$\n",
    "\n",
    "$$\n",
    "\\sum_{j \\in J} x_{ij} = 1, \\ \\forall i \\in I \\ \\dots \\ (2)\n",
    "$$\n",
    "\n",
    "$$\n",
    "x_{ij} \\in \\set{0, 1}, \\forall i \\in I, \\forall j \\in J \\ \\dots \\ (3)\n",
    "$$"
   ]
  },
  {
   "cell_type": "code",
   "execution_count": 1,
   "metadata": {},
   "outputs": [],
   "source": [
    "# --- Imports --- #\n",
    "import pyomo.environ as pyo\n",
    "import pandas as pd\n",
    "import numpy as np"
   ]
  },
  {
   "cell_type": "code",
   "execution_count": 2,
   "metadata": {},
   "outputs": [],
   "source": [
    "# --- Declaração dos dados de entrada --- #\n",
    "# Matriz de custos\n",
    "matriz_custos = np.array([[13, 22, 19, 21, 16, 20],\n",
    "                          [18, 17, 24, 18, 22, 27],\n",
    "                          [20, 22, 23, 24, 17, 31],\n",
    "                          [14, 19, 13, 30, 23, 22],\n",
    "                          [21, 14, 17, 25, 15, 23],\n",
    "                          [17, 23, 18, 20, 16, 24]])\n",
    "lista_tarefas = ['Tarefa 1', 'Tarefa 2', 'Tarefa 3', 'Tarefa 4', 'Tarefa 5', 'Tarefa 6'] # Lista de tarefas\n",
    "lista_pessoas = ['Arinei', 'Deisi', 'Luzia', 'Neiva', 'Paulo', 'Wladimir'] # Lista de pessoas\n",
    "custos_designacao = {(lista_pessoas[j], lista_tarefas[i]): matriz_custos[j, i] for i in range(len(lista_tarefas)) for j in range(len(lista_pessoas))} # Dicionário de custos\n"
   ]
  },
  {
   "cell_type": "code",
   "execution_count": 3,
   "metadata": {},
   "outputs": [],
   "source": [
    "# --- Declaração do Modelo Matemático --- #\n",
    "modelo = pyo.ConcreteModel()"
   ]
  },
  {
   "cell_type": "code",
   "execution_count": 4,
   "metadata": {},
   "outputs": [],
   "source": [
    "# --- Declaração dos conjuntos de Iteração --- #\n",
    "modelo.tarefas = pyo.Set(initialize=lista_tarefas) # Conjunto de tarefas\n",
    "modelo.pessoas = pyo.Set(initialize=lista_pessoas) # Conjunto de pessoas"
   ]
  },
  {
   "cell_type": "code",
   "execution_count": 5,
   "metadata": {},
   "outputs": [],
   "source": [
    "# --- Declaração das Variáveis de Decisão --- #\n",
    "modelo.x = pyo.Var(modelo.pessoas, modelo.tarefas, within=pyo.Binary) # x_{ij} = 1 se a pessoa i é designada para a tarefa j, 0 caso contrário."
   ]
  },
  {
   "cell_type": "code",
   "execution_count": 6,
   "metadata": {},
   "outputs": [],
   "source": [
    "# --- Declaração dos Parâmetros do Modelo --- #\n",
    "modelo.custos = pyo.Param(modelo.pessoas, modelo.tarefas, initialize=custos_designacao) # Custo de designação da pessoa i para a tarefa j"
   ]
  },
  {
   "cell_type": "code",
   "execution_count": 8,
   "metadata": {},
   "outputs": [],
   "source": [
    "# --- Declaração da Função Objetivo --- #\n",
    "def funcao_objetivo(modelo):\n",
    "    return sum(modelo.custos[i, j] * modelo.x[i, j] for i in modelo.pessoas for j in modelo.tarefas)\n",
    "modelo.objetivo = pyo.Objective(rule=funcao_objetivo, sense=pyo.minimize)"
   ]
  },
  {
   "cell_type": "code",
   "execution_count": 11,
   "metadata": {},
   "outputs": [],
   "source": [
    "# --- Declaração das Restrições do Modelo --- #\n",
    "def restricao_1(modelo, j):\n",
    "    return sum(modelo.x[:, j]) == 1\n",
    "# Cada tarefa j deve ser designada a exatamente uma pessoa i.\n",
    "modelo.restricao_1 = pyo.Constraint(modelo.tarefas, rule=restricao_1)\n",
    "# ---\n",
    "def restricao_2(modelo, i):\n",
    "    return sum(modelo.x[i, :]) == 1\n",
    "# Cada pessoa i deve ser designada a exatamente uma tarefa j.\n",
    "modelo.restricao_2 = pyo.Constraint(modelo.pessoas, rule=restricao_2)"
   ]
  },
  {
   "cell_type": "code",
   "execution_count": 13,
   "metadata": {},
   "outputs": [
    {
     "data": {
      "text/plain": [
       "{'Problem': [{'Name': 'x1', 'Lower bound': 99.0, 'Upper bound': 99.0, 'Number of objectives': 1, 'Number of constraints': 12, 'Number of variables': 36, 'Number of binary variables': 36, 'Number of integer variables': 36, 'Number of continuous variables': 0, 'Number of nonzeros': 72, 'Sense': 'minimize'}], 'Solver': [{'Status': 'ok', 'Return code': '0', 'Message': 'Model was solved to optimality (subject to tolerances), and an optimal solution is available.', 'Termination condition': 'optimal', 'Termination message': 'Model was solved to optimality (subject to tolerances), and an optimal solution is available.', 'Wall time': '0.013000011444091797', 'Error rc': 0, 'Time': 1.426877737045288}], 'Solution': [OrderedDict({'number of solutions': 0, 'number of solutions displayed': 0})]}"
      ]
     },
     "execution_count": 13,
     "metadata": {},
     "output_type": "execute_result"
    }
   ],
   "source": [
    "# --- Declaração do Solver --- #\n",
    "solver = pyo.SolverFactory('gurobi')\n",
    "solver.solve(modelo)"
   ]
  },
  {
   "cell_type": "code",
   "execution_count": 14,
   "metadata": {},
   "outputs": [],
   "source": [
    "# --- Extração dos Resultados --- #\n",
    "dados_designacao = [{'Pessoa': i, 'Tarefa': j, 'Designado': val}\n",
    "                    for (i, j), val in modelo.x.extract_values().items()]\n",
    "# ---\n",
    "resultados = pd.DataFrame(dados_designacao).pivot(index='Pessoa', columns='Tarefa', values='Designado')"
   ]
  },
  {
   "cell_type": "code",
   "execution_count": 16,
   "metadata": {},
   "outputs": [],
   "source": [
    "resultados.to_excel('_ex_04_resultados_modelo_matematico.xlsx')"
   ]
  },
  {
   "cell_type": "code",
   "execution_count": 17,
   "metadata": {},
   "outputs": [
    {
     "name": "stdout",
     "output_type": "stream",
     "text": [
      "Função Objetivo: 99.0\n"
     ]
    }
   ],
   "source": [
    "print(f'Função Objetivo: {modelo.objetivo()}') # Valor da função objetivo"
   ]
  },
  {
   "cell_type": "code",
   "execution_count": 18,
   "metadata": {},
   "outputs": [
    {
     "data": {
      "text/plain": [
       "[{'Pessoa': 'Arinei', 'Tarefa': 'Tarefa 1', 'Designado': 0.0},\n",
       " {'Pessoa': 'Arinei', 'Tarefa': 'Tarefa 2', 'Designado': -0.0},\n",
       " {'Pessoa': 'Arinei', 'Tarefa': 'Tarefa 3', 'Designado': -0.0},\n",
       " {'Pessoa': 'Arinei', 'Tarefa': 'Tarefa 4', 'Designado': -0.0},\n",
       " {'Pessoa': 'Arinei', 'Tarefa': 'Tarefa 5', 'Designado': -0.0},\n",
       " {'Pessoa': 'Arinei', 'Tarefa': 'Tarefa 6', 'Designado': 1.0},\n",
       " {'Pessoa': 'Deisi', 'Tarefa': 'Tarefa 1', 'Designado': -0.0},\n",
       " {'Pessoa': 'Deisi', 'Tarefa': 'Tarefa 2', 'Designado': -0.0},\n",
       " {'Pessoa': 'Deisi', 'Tarefa': 'Tarefa 3', 'Designado': -0.0},\n",
       " {'Pessoa': 'Deisi', 'Tarefa': 'Tarefa 4', 'Designado': 1.0},\n",
       " {'Pessoa': 'Deisi', 'Tarefa': 'Tarefa 5', 'Designado': -0.0},\n",
       " {'Pessoa': 'Deisi', 'Tarefa': 'Tarefa 6', 'Designado': -0.0},\n",
       " {'Pessoa': 'Luzia', 'Tarefa': 'Tarefa 1', 'Designado': -0.0},\n",
       " {'Pessoa': 'Luzia', 'Tarefa': 'Tarefa 2', 'Designado': -0.0},\n",
       " {'Pessoa': 'Luzia', 'Tarefa': 'Tarefa 3', 'Designado': -0.0},\n",
       " {'Pessoa': 'Luzia', 'Tarefa': 'Tarefa 4', 'Designado': -0.0},\n",
       " {'Pessoa': 'Luzia', 'Tarefa': 'Tarefa 5', 'Designado': 1.0},\n",
       " {'Pessoa': 'Luzia', 'Tarefa': 'Tarefa 6', 'Designado': -0.0},\n",
       " {'Pessoa': 'Neiva', 'Tarefa': 'Tarefa 1', 'Designado': 0.0},\n",
       " {'Pessoa': 'Neiva', 'Tarefa': 'Tarefa 2', 'Designado': -0.0},\n",
       " {'Pessoa': 'Neiva', 'Tarefa': 'Tarefa 3', 'Designado': 1.0},\n",
       " {'Pessoa': 'Neiva', 'Tarefa': 'Tarefa 4', 'Designado': -0.0},\n",
       " {'Pessoa': 'Neiva', 'Tarefa': 'Tarefa 5', 'Designado': -0.0},\n",
       " {'Pessoa': 'Neiva', 'Tarefa': 'Tarefa 6', 'Designado': -0.0},\n",
       " {'Pessoa': 'Paulo', 'Tarefa': 'Tarefa 1', 'Designado': -0.0},\n",
       " {'Pessoa': 'Paulo', 'Tarefa': 'Tarefa 2', 'Designado': 1.0},\n",
       " {'Pessoa': 'Paulo', 'Tarefa': 'Tarefa 3', 'Designado': -0.0},\n",
       " {'Pessoa': 'Paulo', 'Tarefa': 'Tarefa 4', 'Designado': -0.0},\n",
       " {'Pessoa': 'Paulo', 'Tarefa': 'Tarefa 5', 'Designado': -0.0},\n",
       " {'Pessoa': 'Paulo', 'Tarefa': 'Tarefa 6', 'Designado': -0.0},\n",
       " {'Pessoa': 'Wladimir', 'Tarefa': 'Tarefa 1', 'Designado': 1.0},\n",
       " {'Pessoa': 'Wladimir', 'Tarefa': 'Tarefa 2', 'Designado': -0.0},\n",
       " {'Pessoa': 'Wladimir', 'Tarefa': 'Tarefa 3', 'Designado': -0.0},\n",
       " {'Pessoa': 'Wladimir', 'Tarefa': 'Tarefa 4', 'Designado': 0.0},\n",
       " {'Pessoa': 'Wladimir', 'Tarefa': 'Tarefa 5', 'Designado': 0.0},\n",
       " {'Pessoa': 'Wladimir', 'Tarefa': 'Tarefa 6', 'Designado': -0.0}]"
      ]
     },
     "execution_count": 18,
     "metadata": {},
     "output_type": "execute_result"
    }
   ],
   "source": [
    "dados_designacao"
   ]
  }
 ],
 "metadata": {
  "kernelspec": {
   "display_name": "optimization",
   "language": "python",
   "name": "python3"
  },
  "language_info": {
   "codemirror_mode": {
    "name": "ipython",
    "version": 3
   },
   "file_extension": ".py",
   "mimetype": "text/x-python",
   "name": "python",
   "nbconvert_exporter": "python",
   "pygments_lexer": "ipython3",
   "version": "3.12.5"
  }
 },
 "nbformat": 4,
 "nbformat_minor": 2
}
