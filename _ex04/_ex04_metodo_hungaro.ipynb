{
 "cells": [
  {
   "cell_type": "code",
   "execution_count": 2,
   "metadata": {},
   "outputs": [
    {
     "name": "stdout",
     "output_type": "stream",
     "text": [
      "\n",
      "Custo total da atribuição: 99.00\n",
      "\n",
      "Atribuições:\n",
      "Agente 0 -> Tarefa 0 (custo: 13.00)\n",
      "Agente 1 -> Tarefa 3 (custo: 18.00)\n",
      "Agente 2 -> Tarefa 4 (custo: 17.00)\n",
      "Agente 3 -> Tarefa 2 (custo: 13.00)\n",
      "Agente 4 -> Tarefa 1 (custo: 14.00)\n",
      "Agente 5 -> Tarefa 5 (custo: 24.00)\n",
      "\n",
      "Matriz de atribuição (mostra apenas elementos escolhidos):\n",
      "[[13.  0.  0.  0.  0.  0.]\n",
      " [ 0.  0.  0. 18.  0.  0.]\n",
      " [ 0.  0.  0.  0. 17.  0.]\n",
      " [ 0.  0. 13.  0.  0.  0.]\n",
      " [ 0. 14.  0.  0.  0.  0.]\n",
      " [ 0.  0.  0.  0.  0. 24.]]\n"
     ]
    }
   ],
   "source": [
    "# Importar a classe \n",
    "from metodo_hungaro import AlgoritmoHungaro\n",
    "import numpy as np\n",
    "\n",
    "# Criar matriz de custos de exemplo\n",
    "matriz_custos = np.array([\n",
    "    [13, 22, 19, 21, 16, 20],\n",
    "    [18, 17, 24, 18, 22, 27],\n",
    "    [20, 22, 23, 24, 17, 31],\n",
    "    [14, 19, 13, 30, 23, 22],\n",
    "    [21, 14, 17, 25, 15, 23],\n",
    "    [17, 23, 18, 20, 16, 24]\n",
    "])\n",
    "\n",
    "# Criar instância do solver\n",
    "solver = AlgoritmoHungaro(matriz_custos)\n",
    "\n",
    "# Resolver para minimização\n",
    "custo_total, matriz_resposta = solver.resolver(maximizar=False)\n",
    "\n",
    "# Imprimir resultados formatados\n",
    "solver.imprimir_solucao()\n"
   ]
  }
 ],
 "metadata": {
  "kernelspec": {
   "display_name": "optimization",
   "language": "python",
   "name": "python3"
  },
  "language_info": {
   "codemirror_mode": {
    "name": "ipython",
    "version": 3
   },
   "file_extension": ".py",
   "mimetype": "text/x-python",
   "name": "python",
   "nbconvert_exporter": "python",
   "pygments_lexer": "ipython3",
   "version": "3.12.5"
  }
 },
 "nbformat": 4,
 "nbformat_minor": 2
}
