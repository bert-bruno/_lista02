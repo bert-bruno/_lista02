{
 "cells": [
  {
   "cell_type": "markdown",
   "metadata": {},
   "source": [
    "# Exercício 3\n",
    "\n",
    "Os mercados \"Deise-Luzia\" atendem 11 armazéns de três centros regionais, segundo os\n",
    "volumes mostrados no quadro a seguir. O custo médio de movimentar bens de um centro\n",
    "para um armazém é de $0.50 por ton. por km. Ache o programa de transporte ótimo e\n",
    "seu custo.\n",
    "\n",
    "Na tabela abaixo, é apresentada a matriz de distância (km) entre centros e armazéns.\n",
    "\n",
    "|              Centro             \t| **W1** \t| **W2** \t| **W3** \t| **W4** \t| **W5** \t| **W6** \t| **W7** \t| **W8** \t| **W9** \t| **W10** \t| **W11** \t| **Capac. centros (kilotons.)** \t|\n",
    "|:-------------------------------:\t|:------:\t|:------:\t|:------:\t|:------:\t|:------:\t|:------:\t|:------:\t|:------:\t|:------:\t|:-------:\t|:-------:\t|:------------------------------:\t|\n",
    "|              **C1**             \t|   10   \t|   22   \t|   29   \t|   45   \t|   11   \t|   31   \t|   42   \t|   61   \t|   36   \t|    21   \t|    45   \t|               500              \t|\n",
    "|              **C2**             \t|   25   \t|   35   \t|   17   \t|   38   \t|    9   \t|   17   \t|   65   \t|   45   \t|   42   \t|    5    \t|    41   \t|               750              \t|\n",
    "|              **C3**             \t|   18   \t|   19   \t|   22   \t|   29   \t|   24   \t|   54   \t|   39   \t|   78   \t|   51   \t|    14   \t|    38   \t|               400              \t|\n",
    "| **Demanda Armazém (kilotons.)** \t|   112  \t|   85   \t|   138  \t|   146  \t|   77   \t|   89   \t|   101  \t|   215  \t|   53   \t|    49   \t|   153   \t|                                \t|\n",
    "\n",
    "\n",
    "# Solução\n",
    "\n",
    "**INSERIR MODELO FORMAL**"
   ]
  },
  {
   "cell_type": "code",
   "execution_count": 24,
   "metadata": {},
   "outputs": [],
   "source": [
    "# --- Imports --- #\n",
    "import pyomo.environ as pyo\n",
    "from pyomo.contrib.latex_printer import latex_printer\n",
    "from IPython.display import display, Math\n",
    "import numpy as np\n",
    "import pandas as pd"
   ]
  },
  {
   "cell_type": "code",
   "execution_count": 12,
   "metadata": {},
   "outputs": [],
   "source": [
    "# --- Declaração dos dados de entrada --- #\n",
    "# Matriz de distâncias\n",
    "custo_tonelada_km = 0.5 # R$/tonelada.km\n",
    "matriz_distancia = np.array([[10, 22, 29, 45, 11, 31, 42, 61, 36, 21, 45],\n",
    "                             [25, 35, 17, 38, 9, 17, 65, 45, 42, 5, 41],\n",
    "                             [18, 19, 22, 29, 24, 54, 39, 78, 51, 14, 38]]) # km\n",
    "demanda = {'W1': 112000, \n",
    "           'W2': 85000, \n",
    "           'W3': 138000, \n",
    "           'W4': 146000, \n",
    "           'W5': 77000, \n",
    "           'W6': 89000, \n",
    "           'W7': 101000,\n",
    "           'W8': 215000, \n",
    "           'W9': 53000, \n",
    "           'W10': 49000, \n",
    "           'W11': 153000} # toneladas\n",
    "oferta = {'C1': 500000, \n",
    "          'C2': 750000, \n",
    "          'C3': 400000} # toneladas\n",
    "custo_transporte = {(c, w): matriz_distancia[i, j] * 0.5 for i, c in enumerate(oferta) for j, w in enumerate(demanda)} # r$/tonelada"
   ]
  },
  {
   "cell_type": "code",
   "execution_count": 32,
   "metadata": {},
   "outputs": [],
   "source": [
    "# --- Declaração do Modelo Matemático --- #\n",
    "modelo = pyo.ConcreteModel()"
   ]
  },
  {
   "cell_type": "code",
   "execution_count": 33,
   "metadata": {},
   "outputs": [],
   "source": [
    "# --- Declaração dos Conjuntos de Iteração --- #\n",
    "modelo.armazens = pyo.Set(initialize=demanda.keys())\n",
    "modelo.centros = pyo.Set(initialize=oferta.keys())"
   ]
  },
  {
   "cell_type": "code",
   "execution_count": 34,
   "metadata": {},
   "outputs": [],
   "source": [
    "# --- Declaração dos Parâmetros do Modelo --- #\n",
    "modelo.demanda = pyo.Param(modelo.armazens, initialize=demanda) # Demanda de cada armazém\n",
    "modelo.oferta = pyo.Param(modelo.centros, initialize=oferta) # Oferta de cada centro de distribuição\n",
    "modelo.custo_transporte = pyo.Param(modelo.centros, modelo.armazens, initialize=custo_transporte) # Custo de transporte de cada centro para cada armazém"
   ]
  },
  {
   "cell_type": "code",
   "execution_count": 35,
   "metadata": {},
   "outputs": [],
   "source": [
    "# --- Declaração das Variáveis de Decisão --- #\n",
    "modelo.x = pyo.Var(modelo.centros, modelo.armazens, domain=pyo.NonNegativeIntegers) # Quantidade de toneladas transportadas de cada centro para cada armazém"
   ]
  },
  {
   "cell_type": "code",
   "execution_count": 36,
   "metadata": {},
   "outputs": [],
   "source": [
    "# --- Declaração da Função Objetivo --- #\n",
    "def funcao_objetivo(modelo):\n",
    "    return sum(modelo.custo_transporte[i, j] * modelo.x[i, j]\n",
    "                for i in modelo.centros\n",
    "                for j in modelo.armazens\n",
    "    )\n",
    "modelo.objetivo = pyo.Objective(rule=funcao_objetivo, sense=pyo.minimize)\n"
   ]
  },
  {
   "cell_type": "code",
   "execution_count": 37,
   "metadata": {},
   "outputs": [],
   "source": [
    "# --- Declaração das Restrições --- #\n",
    "def restricao_demanda(modelo, j):\n",
    "    '''\n",
    "    Recebe um objeto de modelo Pyomo e um índice j do conjunto J e retorna a expressão de restrição de demanda\n",
    "    para o armazém j.\n",
    "    '''\n",
    "    return sum(modelo.x[:, j]) == modelo.demanda[j]\n",
    "# ---\n",
    "modelo.rest_demanda = pyo.Constraint(modelo.armazens, rule=restricao_demanda)\n",
    "# --- #\n",
    "def restricao_oferta(modelo, i):\n",
    "    '''\n",
    "    Recebe um objeto de modelo Pyomo e um índice i do conjunto I e retorna a expressão de restrição de oferta\n",
    "    para o centro i.\n",
    "    '''\n",
    "    return sum(modelo.x[i, :]) <= modelo.oferta[i]\n",
    "# ---\n",
    "modelo.rest_oferta = pyo.Constraint(modelo.centros, rule=restricao_oferta)"
   ]
  },
  {
   "cell_type": "code",
   "execution_count": 38,
   "metadata": {},
   "outputs": [
    {
     "name": "stdout",
     "output_type": "stream",
     "text": [
      "2 Set Declarations\n",
      "    armazens : Size=1, Index=None, Ordered=Insertion\n",
      "        Key  : Dimen : Domain : Size : Members\n",
      "        None :     1 :    Any :   11 : {'W1', 'W2', 'W3', 'W4', 'W5', 'W6', 'W7', 'W8', 'W9', 'W10', 'W11'}\n",
      "    centros : Size=1, Index=None, Ordered=Insertion\n",
      "        Key  : Dimen : Domain : Size : Members\n",
      "        None :     1 :    Any :    3 : {'C1', 'C2', 'C3'}\n",
      "\n",
      "3 Param Declarations\n",
      "    custo_transporte : Size=33, Index=centros*armazens, Domain=Any, Default=None, Mutable=False\n",
      "        Key           : Value\n",
      "         ('C1', 'W1') :   5.0\n",
      "        ('C1', 'W10') :  10.5\n",
      "        ('C1', 'W11') :  22.5\n",
      "         ('C1', 'W2') :  11.0\n",
      "         ('C1', 'W3') :  14.5\n",
      "         ('C1', 'W4') :  22.5\n",
      "         ('C1', 'W5') :   5.5\n",
      "         ('C1', 'W6') :  15.5\n",
      "         ('C1', 'W7') :  21.0\n",
      "         ('C1', 'W8') :  30.5\n",
      "         ('C1', 'W9') :  18.0\n",
      "         ('C2', 'W1') :  12.5\n",
      "        ('C2', 'W10') :   2.5\n",
      "        ('C2', 'W11') :  20.5\n",
      "         ('C2', 'W2') :  17.5\n",
      "         ('C2', 'W3') :   8.5\n",
      "         ('C2', 'W4') :  19.0\n",
      "         ('C2', 'W5') :   4.5\n",
      "         ('C2', 'W6') :   8.5\n",
      "         ('C2', 'W7') :  32.5\n",
      "         ('C2', 'W8') :  22.5\n",
      "         ('C2', 'W9') :  21.0\n",
      "         ('C3', 'W1') :   9.0\n",
      "        ('C3', 'W10') :   7.0\n",
      "        ('C3', 'W11') :  19.0\n",
      "         ('C3', 'W2') :   9.5\n",
      "         ('C3', 'W3') :  11.0\n",
      "         ('C3', 'W4') :  14.5\n",
      "         ('C3', 'W5') :  12.0\n",
      "         ('C3', 'W6') :  27.0\n",
      "         ('C3', 'W7') :  19.5\n",
      "         ('C3', 'W8') :  39.0\n",
      "         ('C3', 'W9') :  25.5\n",
      "    demanda : Size=11, Index=armazens, Domain=Any, Default=None, Mutable=False\n",
      "        Key : Value\n",
      "         W1 : 112000\n",
      "        W10 :  49000\n",
      "        W11 : 153000\n",
      "         W2 :  85000\n",
      "         W3 : 138000\n",
      "         W4 : 146000\n",
      "         W5 :  77000\n",
      "         W6 :  89000\n",
      "         W7 : 101000\n",
      "         W8 : 215000\n",
      "         W9 :  53000\n",
      "    oferta : Size=3, Index=centros, Domain=Any, Default=None, Mutable=False\n",
      "        Key : Value\n",
      "         C1 : 500000\n",
      "         C2 : 750000\n",
      "         C3 : 400000\n",
      "\n",
      "1 Var Declarations\n",
      "    x : Size=33, Index=centros*armazens\n",
      "        Key           : Lower : Value : Upper : Fixed : Stale : Domain\n",
      "         ('C1', 'W1') :     0 :  None :  None : False :  True : NonNegativeIntegers\n",
      "        ('C1', 'W10') :     0 :  None :  None : False :  True : NonNegativeIntegers\n",
      "        ('C1', 'W11') :     0 :  None :  None : False :  True : NonNegativeIntegers\n",
      "         ('C1', 'W2') :     0 :  None :  None : False :  True : NonNegativeIntegers\n",
      "         ('C1', 'W3') :     0 :  None :  None : False :  True : NonNegativeIntegers\n",
      "         ('C1', 'W4') :     0 :  None :  None : False :  True : NonNegativeIntegers\n",
      "         ('C1', 'W5') :     0 :  None :  None : False :  True : NonNegativeIntegers\n",
      "         ('C1', 'W6') :     0 :  None :  None : False :  True : NonNegativeIntegers\n",
      "         ('C1', 'W7') :     0 :  None :  None : False :  True : NonNegativeIntegers\n",
      "         ('C1', 'W8') :     0 :  None :  None : False :  True : NonNegativeIntegers\n",
      "         ('C1', 'W9') :     0 :  None :  None : False :  True : NonNegativeIntegers\n",
      "         ('C2', 'W1') :     0 :  None :  None : False :  True : NonNegativeIntegers\n",
      "        ('C2', 'W10') :     0 :  None :  None : False :  True : NonNegativeIntegers\n",
      "        ('C2', 'W11') :     0 :  None :  None : False :  True : NonNegativeIntegers\n",
      "         ('C2', 'W2') :     0 :  None :  None : False :  True : NonNegativeIntegers\n",
      "         ('C2', 'W3') :     0 :  None :  None : False :  True : NonNegativeIntegers\n",
      "         ('C2', 'W4') :     0 :  None :  None : False :  True : NonNegativeIntegers\n",
      "         ('C2', 'W5') :     0 :  None :  None : False :  True : NonNegativeIntegers\n",
      "         ('C2', 'W6') :     0 :  None :  None : False :  True : NonNegativeIntegers\n",
      "         ('C2', 'W7') :     0 :  None :  None : False :  True : NonNegativeIntegers\n",
      "         ('C2', 'W8') :     0 :  None :  None : False :  True : NonNegativeIntegers\n",
      "         ('C2', 'W9') :     0 :  None :  None : False :  True : NonNegativeIntegers\n",
      "         ('C3', 'W1') :     0 :  None :  None : False :  True : NonNegativeIntegers\n",
      "        ('C3', 'W10') :     0 :  None :  None : False :  True : NonNegativeIntegers\n",
      "        ('C3', 'W11') :     0 :  None :  None : False :  True : NonNegativeIntegers\n",
      "         ('C3', 'W2') :     0 :  None :  None : False :  True : NonNegativeIntegers\n",
      "         ('C3', 'W3') :     0 :  None :  None : False :  True : NonNegativeIntegers\n",
      "         ('C3', 'W4') :     0 :  None :  None : False :  True : NonNegativeIntegers\n",
      "         ('C3', 'W5') :     0 :  None :  None : False :  True : NonNegativeIntegers\n",
      "         ('C3', 'W6') :     0 :  None :  None : False :  True : NonNegativeIntegers\n",
      "         ('C3', 'W7') :     0 :  None :  None : False :  True : NonNegativeIntegers\n",
      "         ('C3', 'W8') :     0 :  None :  None : False :  True : NonNegativeIntegers\n",
      "         ('C3', 'W9') :     0 :  None :  None : False :  True : NonNegativeIntegers\n",
      "\n",
      "1 Objective Declarations\n",
      "    objetivo : Size=1, Index=None, Active=True\n",
      "        Key  : Active : Sense    : Expression\n",
      "        None :   True : minimize : 5.0*x[C1,W1] + 11.0*x[C1,W2] + 14.5*x[C1,W3] + 22.5*x[C1,W4] + 5.5*x[C1,W5] + 15.5*x[C1,W6] + 21.0*x[C1,W7] + 30.5*x[C1,W8] + 18.0*x[C1,W9] + 10.5*x[C1,W10] + 22.5*x[C1,W11] + 12.5*x[C2,W1] + 17.5*x[C2,W2] + 8.5*x[C2,W3] + 19.0*x[C2,W4] + 4.5*x[C2,W5] + 8.5*x[C2,W6] + 32.5*x[C2,W7] + 22.5*x[C2,W8] + 21.0*x[C2,W9] + 2.5*x[C2,W10] + 20.5*x[C2,W11] + 9.0*x[C3,W1] + 9.5*x[C3,W2] + 11.0*x[C3,W3] + 14.5*x[C3,W4] + 12.0*x[C3,W5] + 27.0*x[C3,W6] + 19.5*x[C3,W7] + 39.0*x[C3,W8] + 25.5*x[C3,W9] + 7.0*x[C3,W10] + 19.0*x[C3,W11]\n",
      "\n",
      "2 Constraint Declarations\n",
      "    rest_demanda : Size=11, Index=armazens, Active=True\n",
      "        Key : Lower    : Body                              : Upper    : Active\n",
      "         W1 : 112000.0 :    x[C1,W1] + x[C2,W1] + x[C3,W1] : 112000.0 :   True\n",
      "        W10 :  49000.0 : x[C1,W10] + x[C2,W10] + x[C3,W10] :  49000.0 :   True\n",
      "        W11 : 153000.0 : x[C1,W11] + x[C2,W11] + x[C3,W11] : 153000.0 :   True\n",
      "         W2 :  85000.0 :    x[C1,W2] + x[C2,W2] + x[C3,W2] :  85000.0 :   True\n",
      "         W3 : 138000.0 :    x[C1,W3] + x[C2,W3] + x[C3,W3] : 138000.0 :   True\n",
      "         W4 : 146000.0 :    x[C1,W4] + x[C2,W4] + x[C3,W4] : 146000.0 :   True\n",
      "         W5 :  77000.0 :    x[C1,W5] + x[C2,W5] + x[C3,W5] :  77000.0 :   True\n",
      "         W6 :  89000.0 :    x[C1,W6] + x[C2,W6] + x[C3,W6] :  89000.0 :   True\n",
      "         W7 : 101000.0 :    x[C1,W7] + x[C2,W7] + x[C3,W7] : 101000.0 :   True\n",
      "         W8 : 215000.0 :    x[C1,W8] + x[C2,W8] + x[C3,W8] : 215000.0 :   True\n",
      "         W9 :  53000.0 :    x[C1,W9] + x[C2,W9] + x[C3,W9] :  53000.0 :   True\n",
      "    rest_oferta : Size=3, Index=centros, Active=True\n",
      "        Key : Lower : Body                                                                                                                     : Upper    : Active\n",
      "         C1 :  -Inf : x[C1,W1] + x[C1,W2] + x[C1,W3] + x[C1,W4] + x[C1,W5] + x[C1,W6] + x[C1,W7] + x[C1,W8] + x[C1,W9] + x[C1,W10] + x[C1,W11] : 500000.0 :   True\n",
      "         C2 :  -Inf : x[C2,W1] + x[C2,W2] + x[C2,W3] + x[C2,W4] + x[C2,W5] + x[C2,W6] + x[C2,W7] + x[C2,W8] + x[C2,W9] + x[C2,W10] + x[C2,W11] : 750000.0 :   True\n",
      "         C3 :  -Inf : x[C3,W1] + x[C3,W2] + x[C3,W3] + x[C3,W4] + x[C3,W5] + x[C3,W6] + x[C3,W7] + x[C3,W8] + x[C3,W9] + x[C3,W10] + x[C3,W11] : 400000.0 :   True\n",
      "\n",
      "9 Declarations: armazens centros demanda oferta custo_transporte x objetivo rest_demanda rest_oferta\n"
     ]
    }
   ],
   "source": [
    "modelo.pprint()"
   ]
  },
  {
   "cell_type": "code",
   "execution_count": 42,
   "metadata": {},
   "outputs": [
    {
     "data": {
      "text/plain": [
       "{'Problem': [{'Name': 'x1', 'Lower bound': 16678500.0, 'Upper bound': 16678500.0, 'Number of objectives': 1, 'Number of constraints': 14, 'Number of variables': 33, 'Number of binary variables': 0, 'Number of integer variables': 33, 'Number of continuous variables': 0, 'Number of nonzeros': 66, 'Sense': 'minimize'}], 'Solver': [{'Status': 'ok', 'Return code': '0', 'Message': 'Model was solved to optimality (subject to tolerances), and an optimal solution is available.', 'Termination condition': 'optimal', 'Termination message': 'Model was solved to optimality (subject to tolerances), and an optimal solution is available.', 'Wall time': '0.003999948501586914', 'Error rc': 0, 'Time': 1.3269295692443848}], 'Solution': [OrderedDict({'number of solutions': 0, 'number of solutions displayed': 0})]}"
      ]
     },
     "execution_count": 42,
     "metadata": {},
     "output_type": "execute_result"
    }
   ],
   "source": [
    "# --- Declaração do Solver --- #\n",
    "solver = pyo.SolverFactory('gurobi')\n",
    "solver.solve(modelo)"
   ]
  },
  {
   "cell_type": "code",
   "execution_count": 43,
   "metadata": {},
   "outputs": [],
   "source": [
    "# --- Extração dos Resultados --- #\n",
    "dados_transporte = [{'de': i, 'para': j, 'quantidade': val}\n",
    "                    for (i, j), val in modelo.x.extract_values().items()]\n",
    "# ---\n",
    "resultados = pd.DataFrame(dados_transporte).pivot(index='de', columns='para', values='quantidade')\n",
    "resultados.to_excel('_ex_03_resultados_modelo_matematico.xlsx')"
   ]
  },
  {
   "cell_type": "code",
   "execution_count": 44,
   "metadata": {},
   "outputs": [
    {
     "name": "stdout",
     "output_type": "stream",
     "text": [
      "Função Objetivo: 16678500.0\n"
     ]
    }
   ],
   "source": [
    "print(f'Função Objetivo: {modelo.objetivo()}') # Valor da função objetivo"
   ]
  },
  {
   "cell_type": "code",
   "execution_count": 45,
   "metadata": {},
   "outputs": [
    {
     "data": {
      "text/plain": [
       "[{'de': 'C1', 'para': 'W1', 'quantidade': 112000.0},\n",
       " {'de': 'C1', 'para': 'W2', 'quantidade': 85000.0},\n",
       " {'de': 'C1', 'para': 'W3', 'quantidade': -0.0},\n",
       " {'de': 'C1', 'para': 'W4', 'quantidade': -0.0},\n",
       " {'de': 'C1', 'para': 'W5', 'quantidade': -0.0},\n",
       " {'de': 'C1', 'para': 'W6', 'quantidade': -0.0},\n",
       " {'de': 'C1', 'para': 'W7', 'quantidade': -0.0},\n",
       " {'de': 'C1', 'para': 'W8', 'quantidade': -0.0},\n",
       " {'de': 'C1', 'para': 'W9', 'quantidade': 53000.0},\n",
       " {'de': 'C1', 'para': 'W10', 'quantidade': -0.0},\n",
       " {'de': 'C1', 'para': 'W11', 'quantidade': -0.0},\n",
       " {'de': 'C2', 'para': 'W1', 'quantidade': -0.0},\n",
       " {'de': 'C2', 'para': 'W2', 'quantidade': -0.0},\n",
       " {'de': 'C2', 'para': 'W3', 'quantidade': 138000.0},\n",
       " {'de': 'C2', 'para': 'W4', 'quantidade': -0.0},\n",
       " {'de': 'C2', 'para': 'W5', 'quantidade': 77000.0},\n",
       " {'de': 'C2', 'para': 'W6', 'quantidade': 89000.0},\n",
       " {'de': 'C2', 'para': 'W7', 'quantidade': -0.0},\n",
       " {'de': 'C2', 'para': 'W8', 'quantidade': 215000.0},\n",
       " {'de': 'C2', 'para': 'W9', 'quantidade': -0.0},\n",
       " {'de': 'C2', 'para': 'W10', 'quantidade': 49000.0},\n",
       " {'de': 'C2', 'para': 'W11', 'quantidade': -0.0},\n",
       " {'de': 'C3', 'para': 'W1', 'quantidade': -0.0},\n",
       " {'de': 'C3', 'para': 'W2', 'quantidade': 0.0},\n",
       " {'de': 'C3', 'para': 'W3', 'quantidade': -0.0},\n",
       " {'de': 'C3', 'para': 'W4', 'quantidade': 146000.0},\n",
       " {'de': 'C3', 'para': 'W5', 'quantidade': -0.0},\n",
       " {'de': 'C3', 'para': 'W6', 'quantidade': -0.0},\n",
       " {'de': 'C3', 'para': 'W7', 'quantidade': 101000.0},\n",
       " {'de': 'C3', 'para': 'W8', 'quantidade': -0.0},\n",
       " {'de': 'C3', 'para': 'W9', 'quantidade': -0.0},\n",
       " {'de': 'C3', 'para': 'W10', 'quantidade': -0.0},\n",
       " {'de': 'C3', 'para': 'W11', 'quantidade': 153000.0}]"
      ]
     },
     "execution_count": 45,
     "metadata": {},
     "output_type": "execute_result"
    }
   ],
   "source": [
    "dados_transporte"
   ]
  }
 ],
 "metadata": {
  "kernelspec": {
   "display_name": "optimization",
   "language": "python",
   "name": "python3"
  },
  "language_info": {
   "codemirror_mode": {
    "name": "ipython",
    "version": 3
   },
   "file_extension": ".py",
   "mimetype": "text/x-python",
   "name": "python",
   "nbconvert_exporter": "python",
   "pygments_lexer": "ipython3",
   "version": "3.12.5"
  }
 },
 "nbformat": 4,
 "nbformat_minor": 2
}
