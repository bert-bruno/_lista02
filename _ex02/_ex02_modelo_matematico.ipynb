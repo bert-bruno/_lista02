{
 "cells": [
  {
   "cell_type": "markdown",
   "metadata": {},
   "source": [
    "# Exercício 2\n",
    "\n",
    "Uma companhia aérea regional pode comprar seu combustível para jato a partir de qualquer um dentre três fornecedores. As necessidades da companhia aérea para o mês entrante em cada um dos três aeroportos emq ue ela opera são: 100.000 galões no aeroporto 1; 180.000 galões no aeroporto 2 e 300.000 galões no aeroporto 3. Cada fornecedor pode abastecer cada um dos aeroportos de acordo com os preços (em $ por galão) dados no seguinte quadro:\n",
    "\n",
    "|                  \t| **Aeroporto 1** \t| **Aeroporto 2** \t| **Aeroporto 3** \t|\n",
    "|:----------------:\t|:---------------:\t|:---------------:\t|:---------------:\t|\n",
    "| **Fornecedor 1** \t|        92       \t|        89       \t|        90       \t|\n",
    "| **Fornecedor 2** \t|        91       \t|        91       \t|        95       \t|\n",
    "| **Fornecedor 3** \t|        87       \t|        90       \t|        92       \t|\n",
    "\n",
    "Cada fornecedor, contudo, está limitado pelo número total de galões que ele pode abastecer por mês. Estas capacidades são 320.000 galões para o fornecedor 1, 270.000 galões para o fornecedor 2 e 150.000 galões para o fornecedor 3. Determine a política de aquisição que suprirá as necessidades da companhia em cada aeroporto a um custo total mínimo.\n",
    "\n",
    "# Solução\n",
    "\n",
    "Inicialmente, vamos elaborar uma tabela que agregue todas as informações contidas na situação.\n",
    "\n",
    "|                  \t| **Aeroporto 1** \t| **Aeroporto 2** \t| **Aeroporto 3** \t| **Oferta** \t|\n",
    "|:----------------:\t|:---------------:\t|:---------------:\t|:---------------:\t|:----------:\t|\n",
    "| **Fornecedor 1** \t|        92       \t|        89       \t|        90       \t|   320000   \t|\n",
    "| **Fornecedor 2** \t|        91       \t|        91       \t|        95       \t|   270000   \t|\n",
    "| **Fornecedor 3** \t|        87       \t|        90       \t|        92       \t|   150000   \t|\n",
    "|    **Demanda**   \t|      100000     \t|      180000     \t|      300000     \t|            \t|\n",
    "\n",
    "## Conjuntos de Iteração\n",
    "\n",
    "$I$: conjunto de fornecedores, indexado por $i$.\n",
    "\n",
    "$J$: conjunto de aeroportos, indexado por $j$.\n",
    "\n",
    "## Parâmetros do modelo\n",
    "\n",
    "$c_{ij}$: custo unitário de transporte, saindo do fornecedor $i$ para o aeroporto $j$.\n",
    "\n",
    "$o_{i}$: capacidade (oferta) máxima associada a cada fornecedor $i$.\n",
    "\n",
    "$d_{j}$: demanda associada a cada aeroporto $j$.\n",
    "\n",
    "## Variáveis de Decisão\n",
    "\n",
    "$x_{ij}$: quantidade transportada do fornecedor $i$ para o aeroporto $j$.\n",
    "\n",
    "## Função Objetivo\n",
    "\n",
    "$min \\ Z = \\sum_{i \\in I}\\sum_{j \\in J} \\ x_{ij}c_{ij}$\n",
    "\n",
    "## Restrições\n",
    "\n",
    "$\\sum_{i \\in I} x_{ij} = d_{j}, \\ \\forall j \\in J$: a soma de todos os fornecimentos $i$ para um dado aeroporto $j$ deve ser igual à demanda do aeroporto $j$, para todos os aeroportos.\n",
    "\n",
    "$\\sum_{j \\in J} x_{ij} \\le o_{i},\\ \\forall i \\in I$: o somatório de todas as demandas $j$ para um dado fornecedor $i$ deve ser menor ou igual à capacidade $i$ daquele fornecedor, para todos os fornecedores.\n",
    "\n",
    "$x_{ij} \\ge 0, \\ x_{ij} \\in  \\mathbb{Z}$\n"
   ]
  },
  {
   "cell_type": "code",
   "execution_count": 41,
   "metadata": {},
   "outputs": [],
   "source": [
    "# --- Imports --- #\n",
    "import pyomo.environ as pyo\n",
    "import pandas as pd"
   ]
  },
  {
   "cell_type": "code",
   "execution_count": 42,
   "metadata": {},
   "outputs": [],
   "source": [
    "# --- Declaração de dados de entrada --- #\n",
    "# Custo de transporte do fornecedor i para o cliente j.\n",
    "custos_transporte = {('F1', 'A1'): 92, ('F1', 'A2'): 89, ('F1', 'A3'): 90,\n",
    "                     ('F2', 'A1'): 91, ('F2', 'A2'): 91, ('F2', 'A3'): 95,\n",
    "                     ('F3', 'A1'): 87, ('F3', 'A2'): 90, ('F3', 'A3'): 92}\n",
    "ofertas = {'F1': 320000, 'F2': 270000, 'F3': 150000} # Oferta de cada fornecedor\n",
    "demandas = {'A1': 100000, 'A2': 180000, 'A3': 300000} # Demanda de cada cliente"
   ]
  },
  {
   "cell_type": "code",
   "execution_count": 43,
   "metadata": {},
   "outputs": [],
   "source": [
    "# --- Declaração do Modelo Matemático --- #\n",
    "modelo = pyo.ConcreteModel()"
   ]
  },
  {
   "cell_type": "code",
   "execution_count": 44,
   "metadata": {},
   "outputs": [],
   "source": [
    "# --- Declaração dos Conjuntos de Iteração --- #\n",
    "modelo.I = pyo.Set(initialize=ofertas.keys()) # Conjunto de ofertas\n",
    "modelo.J = pyo.Set(initialize=demandas.keys()) # Conjunto de demandas"
   ]
  },
  {
   "cell_type": "code",
   "execution_count": 45,
   "metadata": {},
   "outputs": [],
   "source": [
    "# --- Declaração de Parâmetros --- #\n",
    "# Custo de transporte do fornecedor i para o cliente j\n",
    "modelo.custo_transporte = pyo.Param(modelo.I, modelo.J, initialize=custos_transporte)\n",
    "# Oferta do fornecedor i\n",
    "modelo.oferta = pyo.Param(modelo.I, initialize=ofertas)\n",
    "# Demanda do cliente j\n",
    "modelo.demanda = pyo.Param(modelo.J, initialize=demandas)"
   ]
  },
  {
   "cell_type": "code",
   "execution_count": 46,
   "metadata": {},
   "outputs": [],
   "source": [
    "# --- Declaração das Variáveis de Decisão --- #\n",
    "modelo.x = pyo.Var(modelo.I, modelo.J, domain=pyo.NonNegativeIntegers) # x_ij = quantidade de produtos transportados do fornecedor i para o cliente j"
   ]
  },
  {
   "cell_type": "code",
   "execution_count": 47,
   "metadata": {},
   "outputs": [],
   "source": [
    "# --- Declaração da Função Objetivo --- #\n",
    "# Regra de função objetivo\n",
    "def fo(modelo):\n",
    "    return sum(modelo.custo_transporte[i, j] * modelo.x[i, j]\n",
    "               for i in modelo.I\n",
    "               for j in modelo.J\n",
    ")\n",
    "modelo.objetivo = pyo.Objective(rule=fo, sense=pyo.minimize) # Objetivo de função objetivo"
   ]
  },
  {
   "cell_type": "code",
   "execution_count": 48,
   "metadata": {},
   "outputs": [],
   "source": [
    "# --- Declaração das Restrições --- #\n",
    "# Restrição de atendimento da demanda\n",
    "def restricao_demanda(modelo, j):\n",
    "    '''\n",
    "    Recebe um objeto de modelo Pyomo e um índice j do conjunto J e retorna a expressão de restrição\n",
    "    de atendimento da demanda do cliente j.\n",
    "    '''\n",
    "    return sum(modelo.x[:, j]) == modelo.demanda[j]\n",
    "# ---\n",
    "modelo.rest_demanda = pyo.Constraint(modelo.J, rule=restricao_demanda) # Restrição de atendimento da demanda\n",
    "# --- #\n",
    "# Restrição de capacidade máxima do fornecedor\n",
    "def restricao_capacidade(modelo, i):\n",
    "    '''\n",
    "    Recebe um objeto de modelo Pyomo e um índice i e retorna a expressão de restrição\n",
    "    de capacidade máxima do fornecedor i.\n",
    "    '''\n",
    "    return sum(modelo.x[i, :]) <= modelo.oferta[i]\n",
    "# ---\n",
    "modelo.rest_capacidade = pyo.Constraint(modelo.I, rule=restricao_capacidade) # Restrição de capacidade máxima do fornecedor i."
   ]
  },
  {
   "cell_type": "code",
   "execution_count": 49,
   "metadata": {},
   "outputs": [
    {
     "data": {
      "text/plain": [
       "{'Problem': [{'Name': 'x1', 'Lower bound': 51990000.0, 'Upper bound': 51990000.0, 'Number of objectives': 1, 'Number of constraints': 6, 'Number of variables': 9, 'Number of binary variables': 0, 'Number of integer variables': 9, 'Number of continuous variables': 0, 'Number of nonzeros': 18, 'Sense': 'minimize'}], 'Solver': [{'Status': 'ok', 'Return code': '0', 'Message': 'Model was solved to optimality (subject to tolerances), and an optimal solution is available.', 'Termination condition': 'optimal', 'Termination message': 'Model was solved to optimality (subject to tolerances), and an optimal solution is available.', 'Wall time': '0.002000093460083008', 'Error rc': 0, 'Time': 0.3222520351409912}], 'Solution': [OrderedDict({'number of solutions': 0, 'number of solutions displayed': 0})]}"
      ]
     },
     "execution_count": 49,
     "metadata": {},
     "output_type": "execute_result"
    }
   ],
   "source": [
    "# --- Declaração do Solver --- #\n",
    "solver = pyo.SolverFactory('gurobi') # Criação de um objeto solver\n",
    "solver.solve(modelo) # Resolução do modelo"
   ]
  },
  {
   "cell_type": "code",
   "execution_count": 50,
   "metadata": {},
   "outputs": [],
   "source": [
    "# --- Extração dos Resultados --- #\n",
    "dados_transporte = [{'de': i, 'para': j, 'quantidade': val}\n",
    "                    for (i, j), val in modelo.x.extract_values().items()]\n",
    "# ---\n",
    "resultados = pd.DataFrame(dados_transporte).pivot(index='de', columns='para', values='quantidade')\n",
    "resultados.to_excel('_ex_02_resultados_modelo_matematico.xlsx')"
   ]
  },
  {
   "cell_type": "code",
   "execution_count": 51,
   "metadata": {},
   "outputs": [
    {
     "name": "stdout",
     "output_type": "stream",
     "text": [
      "Função Objetivo: 51990000.0\n"
     ]
    }
   ],
   "source": [
    "print(f'Função Objetivo: {modelo.objetivo()}') # Valor da função objetivo"
   ]
  },
  {
   "cell_type": "code",
   "execution_count": 52,
   "metadata": {},
   "outputs": [
    {
     "data": {
      "text/plain": [
       "[{'de': 'F1', 'para': 'A1', 'quantidade': -0.0},\n",
       " {'de': 'F1', 'para': 'A2', 'quantidade': 20000.0},\n",
       " {'de': 'F1', 'para': 'A3', 'quantidade': 300000.0},\n",
       " {'de': 'F2', 'para': 'A1', 'quantidade': -0.0},\n",
       " {'de': 'F2', 'para': 'A2', 'quantidade': 110000.0},\n",
       " {'de': 'F2', 'para': 'A3', 'quantidade': -0.0},\n",
       " {'de': 'F3', 'para': 'A1', 'quantidade': 100000.0},\n",
       " {'de': 'F3', 'para': 'A2', 'quantidade': 50000.0},\n",
       " {'de': 'F3', 'para': 'A3', 'quantidade': 0.0}]"
      ]
     },
     "execution_count": 52,
     "metadata": {},
     "output_type": "execute_result"
    }
   ],
   "source": [
    "dados_transporte"
   ]
  }
 ],
 "metadata": {
  "kernelspec": {
   "display_name": "optimization",
   "language": "python",
   "name": "python3"
  },
  "language_info": {
   "codemirror_mode": {
    "name": "ipython",
    "version": 3
   },
   "file_extension": ".py",
   "mimetype": "text/x-python",
   "name": "python",
   "nbconvert_exporter": "python",
   "pygments_lexer": "ipython3",
   "version": "3.12.5"
  }
 },
 "nbformat": 4,
 "nbformat_minor": 2
}
