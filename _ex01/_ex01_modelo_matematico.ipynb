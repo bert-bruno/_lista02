{
 "cells": [
  {
   "cell_type": "markdown",
   "metadata": {},
   "source": [
    "# Exercício 1\n",
    "\n",
    "Resolva o problema de transportes apresentado abaixo, no qual estão apresentados os custos unitários de transportes (em R$/ton), as demandas (em ton/mês) e as ofertas (em ton/mês).\n",
    "\n",
    "|               \t| **Mercado 1** \t| **Mercado 2** \t| **Mercado 3** \t| **Mercado 4** \t| **Oferta** \t|\n",
    "|:-------------:\t|:-------------:\t|:-------------:\t|:-------------:\t|:-------------:\t|:----------:\t|\n",
    "| **Fábrica 1** \t|     10,00     \t|      7,00     \t|      5,00     \t|      6,00     \t|   220,00   \t|\n",
    "| **Fábrica 2** \t|     12,00     \t|      7,00     \t|      6,00     \t|      4,00     \t|   180,00   \t|\n",
    "| **Fábrica 3** \t|     13,00     \t|      6,00     \t|      3,00     \t|      5,00     \t|   230,00   \t|\n",
    "|  **Demanda**  \t|     150,00    \t|     165,00    \t|     210,00    \t|     90,00     \t|            \t|\n",
    "\n",
    "# Solução"
   ]
  },
  {
   "cell_type": "code",
   "execution_count": 2,
   "metadata": {},
   "outputs": [],
   "source": [
    "# --- Importando bibliotecas --- #\n",
    "import pyomo.environ as pyo\n",
    "import pandas as pd"
   ]
  },
  {
   "cell_type": "code",
   "execution_count": 3,
   "metadata": {},
   "outputs": [],
   "source": [
    "# --- Dados de entrada --- #\n",
    "ofertas = {'Fabrica 1': 220, 'Fabrica 2': 180, 'Fabrica 3': 230} # Ofertas de cada fábrica\n",
    "demandas = {'Mercado 1': 150, 'Mercado 2': 165, 'Mercado 3': 210, 'Mercado 4': 90} # Demandas de cada mercado\n",
    "# Custo de transporte de cada fábrica para cada mercado\n",
    "custos = {('Fabrica 1', 'Mercado 1'): 10, ('Fabrica 1', 'Mercado 2'): 7, ('Fabrica 1', 'Mercado 3'): 5, ('Fabrica 1', 'Mercado 4'): 6,\n",
    "          ('Fabrica 2', 'Mercado 1'): 12, ('Fabrica 2', 'Mercado 2'): 7, ('Fabrica 2', 'Mercado 3'): 6, ('Fabrica 2', 'Mercado 4'): 4,\n",
    "          ('Fabrica 3', 'Mercado 1'): 13, ('Fabrica 3', 'Mercado 2'): 6, ('Fabrica 3', 'Mercado 3'): 3, ('Fabrica 3', 'Mercado 4'): 5\n",
    "          }"
   ]
  },
  {
   "cell_type": "code",
   "execution_count": 4,
   "metadata": {},
   "outputs": [],
   "source": [
    "# --- Declaração do Modelo Matemático --- #\n",
    "modelo = pyo.ConcreteModel() # Criação de um objeto para o modelo"
   ]
  },
  {
   "cell_type": "code",
   "execution_count": 5,
   "metadata": {},
   "outputs": [],
   "source": [
    "# --- Declaração dos Conjuntos de Iteração --- #\n",
    "modelo.mercados = pyo.Set(initialize=demandas.keys()) # Conjunto de mercados\n",
    "modelo.fabricas = pyo.Set(initialize=ofertas.keys()) # Conjunto de fábricas"
   ]
  },
  {
   "cell_type": "code",
   "execution_count": 6,
   "metadata": {},
   "outputs": [],
   "source": [
    "# --- Declaração de Parâmetros --- #\n",
    "modelo.custo_transporte = pyo.Param(modelo.fabricas, modelo.mercados, initialize=custos) # Custo de transporte\n",
    "modelo.demanda = pyo.Param(modelo.mercados, initialize=demandas) # Demanda de cada mercado\n",
    "modelo.oferta = pyo.Param(modelo.fabricas, initialize=ofertas) # Oferta de cada fábrica"
   ]
  },
  {
   "cell_type": "code",
   "execution_count": 7,
   "metadata": {},
   "outputs": [],
   "source": [
    "# --- Declaração das Variáveis de Decisão --- #\n",
    "modelo.x = pyo.Var(modelo.fabricas, modelo.mercados, within=pyo.NonNegativeReals) # Quantidade a ser transportada de cada fábrica para a cada mercado"
   ]
  },
  {
   "cell_type": "code",
   "execution_count": 8,
   "metadata": {},
   "outputs": [],
   "source": [
    "# --- Declaração da Função Objetivo --- #\n",
    "def computar_custo_de_transporte(modelo):\n",
    "    '''\n",
    "        Recebe um objeto de modelo Pyomo e retorna o custo total de transporte da origem i para o destino j.\n",
    "    '''\n",
    "    custo_de_transporte = sum(\n",
    "        modelo.custo_transporte[i, j] * modelo.x[i, j]\n",
    "        for i in modelo.fabricas\n",
    "        for j in modelo.mercados\n",
    "    )\n",
    "    return custo_de_transporte\n",
    "\n",
    "modelo.objetivo = pyo.Objective(rule=computar_custo_de_transporte, sense=pyo.minimize) # Função objetivo"
   ]
  },
  {
   "cell_type": "code",
   "execution_count": 9,
   "metadata": {},
   "outputs": [],
   "source": [
    "# --- Declaração das Restrições --- #\n",
    "def regra_capacidade(modelo, i):\n",
    "    '''\n",
    "    Recebe um objeto de modelo Pyomo e um índice i e retorna a expressão de restrição de capacidade da fábrica i.\n",
    "    '''\n",
    "    return sum(modelo.x[i, :]) <= modelo.oferta[i]\n",
    "# --- \n",
    "modelo.capacidade_rest = pyo.Constraint(modelo.fabricas, rule=regra_capacidade) # Restrição de capacidade\n",
    "# --- #\n",
    "def regra_demanda(modelo, j):\n",
    "    '''\n",
    "    Recebe um objeto de modelo Pyomo e um índice j e retorna a expressão de restrição de demanda do mercado j.\n",
    "    '''\n",
    "    return sum(modelo.x[:, j]) == modelo.demanda[j]\n",
    "# ---\n",
    "modelo.demanda_rest = pyo.Constraint(modelo.mercados, rule=regra_demanda) # Restrição de demanda"
   ]
  },
  {
   "cell_type": "code",
   "execution_count": 10,
   "metadata": {},
   "outputs": [
    {
     "data": {
      "text/plain": [
       "{'Problem': [{'Name': 'x1', 'Lower bound': 3625.0, 'Upper bound': 3625.0, 'Number of objectives': 1, 'Number of constraints': 7, 'Number of variables': 12, 'Number of binary variables': 0, 'Number of integer variables': 0, 'Number of continuous variables': 12, 'Number of nonzeros': 24, 'Sense': 'minimize'}], 'Solver': [{'Status': 'ok', 'Return code': '0', 'Message': 'Model was solved to optimality (subject to tolerances), and an optimal solution is available.', 'Termination condition': 'optimal', 'Termination message': 'Model was solved to optimality (subject to tolerances), and an optimal solution is available.', 'Wall time': '0.0', 'Error rc': 0, 'Time': 0.421825647354126}], 'Solution': [OrderedDict({'number of solutions': 0, 'number of solutions displayed': 0})]}"
      ]
     },
     "execution_count": 10,
     "metadata": {},
     "output_type": "execute_result"
    }
   ],
   "source": [
    "# --- Declaração do Solver --- #\n",
    "solver = pyo.SolverFactory('gurobi') # Criação de um objeto solver\n",
    "solver.solve(modelo) # Resolução do modelo"
   ]
  },
  {
   "cell_type": "code",
   "execution_count": 11,
   "metadata": {},
   "outputs": [],
   "source": [
    "# --- Extração dos Resultados --- #\n",
    "dados_transporte = [{'de': i, 'para': j, 'quantidade': val}\n",
    "                    for (i, j), val in modelo.x.extract_values().items()]\n",
    "# ---\n",
    "resultados = pd.DataFrame(dados_transporte).pivot(index='de', columns='para', values='quantidade')\n",
    "resultados.to_excel('_ex_01_resultados_modelo_exato.xlsx')"
   ]
  },
  {
   "cell_type": "code",
   "execution_count": 12,
   "metadata": {},
   "outputs": [
    {
     "name": "stdout",
     "output_type": "stream",
     "text": [
      "Função Objetivo: 3625.0\n"
     ]
    }
   ],
   "source": [
    "print(f'Função Objetivo: {modelo.objetivo()}')"
   ]
  },
  {
   "cell_type": "code",
   "execution_count": 13,
   "metadata": {},
   "outputs": [
    {
     "data": {
      "text/plain": [
       "[{'de': 'Fabrica 1', 'para': 'Mercado 1', 'quantidade': 150.0},\n",
       " {'de': 'Fabrica 1', 'para': 'Mercado 2', 'quantidade': 70.0},\n",
       " {'de': 'Fabrica 1', 'para': 'Mercado 3', 'quantidade': 0.0},\n",
       " {'de': 'Fabrica 1', 'para': 'Mercado 4', 'quantidade': 0.0},\n",
       " {'de': 'Fabrica 2', 'para': 'Mercado 1', 'quantidade': 0.0},\n",
       " {'de': 'Fabrica 2', 'para': 'Mercado 2', 'quantidade': 75.0},\n",
       " {'de': 'Fabrica 2', 'para': 'Mercado 3', 'quantidade': 0.0},\n",
       " {'de': 'Fabrica 2', 'para': 'Mercado 4', 'quantidade': 90.0},\n",
       " {'de': 'Fabrica 3', 'para': 'Mercado 1', 'quantidade': 0.0},\n",
       " {'de': 'Fabrica 3', 'para': 'Mercado 2', 'quantidade': 20.0},\n",
       " {'de': 'Fabrica 3', 'para': 'Mercado 3', 'quantidade': 210.0},\n",
       " {'de': 'Fabrica 3', 'para': 'Mercado 4', 'quantidade': 0.0}]"
      ]
     },
     "execution_count": 13,
     "metadata": {},
     "output_type": "execute_result"
    }
   ],
   "source": [
    "dados_transporte"
   ]
  }
 ],
 "metadata": {
  "kernelspec": {
   "display_name": "optimization",
   "language": "python",
   "name": "python3"
  },
  "language_info": {
   "codemirror_mode": {
    "name": "ipython",
    "version": 3
   },
   "file_extension": ".py",
   "mimetype": "text/x-python",
   "name": "python",
   "nbconvert_exporter": "python",
   "pygments_lexer": "ipython3",
   "version": "3.12.5"
  }
 },
 "nbformat": 4,
 "nbformat_minor": 2
}
