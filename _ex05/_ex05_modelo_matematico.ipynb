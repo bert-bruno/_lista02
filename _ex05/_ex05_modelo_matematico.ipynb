{
 "cells": [
  {
   "cell_type": "markdown",
   "metadata": {},
   "source": [
    "# Exercício 5\n",
    "\n",
    "Uma empresa construtora tem 5 tratores em locais diferentes e um trator é necessário para cada uma das três obras situadas em locais diferentes. Se os custos de transporte dos tratores forem os do quadro a seguir, determine o esquema de designação de custo mínimo.\n",
    "\n",
    "| **LocTr\\LocCons** \t| **A** \t| **B** \t| **C** \t|\n",
    "|:-----------------:\t|:-----:\t|:-----:\t|:-----:\t|\n",
    "|       **1**       \t|   2   \t|   3   \t|   4   \t|\n",
    "|       **2**       \t|   7   \t|   6   \t|   4   \t|\n",
    "|       **3**       \t|   3   \t|   5   \t|   8   \t|\n",
    "|       **4**       \t|   4   \t|   6   \t|   5   \t|\n",
    "|       **5**       \t|   4   \t|   6   \t|   3   \t|\n",
    "\n",
    "# Solução\n",
    "\n",
    "## Modelo Matemático\n",
    "\n",
    "### Função Objetivo\n",
    "\n",
    "$$ min \\ Z = \\sum_{i \\in I} \\sum_{j \\in J} c_{ij}x_{ij} $$\n",
    "\n",
    "### Sujeito a\n",
    "\n",
    "$$\n",
    "\\sum_{i \\in I} x_{ij} = 1, \\ \\forall j \\in J \\ \\dots \\ (1)\n",
    "$$\n",
    "\n",
    "$$\n",
    "\\sum_{j \\in J} x_{ij} \\le 1, \\ \\forall i \\in I \\ \\dots \\ (2)\n",
    "$$\n",
    "\n",
    "$$\n",
    "x_{ij} \\in \\set{0, 1}, \\forall i \\in I, \\forall j \\in J \\ \\dots \\ (3)\n",
    "$$"
   ]
  },
  {
   "cell_type": "code",
   "execution_count": 1,
   "metadata": {},
   "outputs": [],
   "source": [
    "# --- Imports --- #\n",
    "import pyomo.environ as pyo\n",
    "import pandas as pd\n",
    "import numpy as np"
   ]
  },
  {
   "cell_type": "code",
   "execution_count": 2,
   "metadata": {},
   "outputs": [],
   "source": [
    "# --- Declaração dos Dados de Entrada --- #\n",
    "# Matriz de custos\n",
    "matriz_custos = np.array([[2, 3, 4],\n",
    "                          [7, 6, 4],\n",
    "                          [3, 5, 8],\n",
    "                          [4, 6, 5],\n",
    "                          [4, 6, 3]])\n",
    "lista_tratores = ['T1', 'T2', 'T3', 'T4', 'T5'] # Lista de tratores\n",
    "lista_construcoes = ['C1', 'C2', 'C3'] # Lista de construções\n",
    "custo_designacao = {(lista_tratores[i], lista_construcoes[j]): matriz_custos[i, j] for i in range(len(lista_tratores)) for j in range(len(lista_construcoes))} # Dicionário de custos"
   ]
  },
  {
   "cell_type": "code",
   "execution_count": 3,
   "metadata": {},
   "outputs": [],
   "source": [
    "# --- Declaração do Modelo Matemático --- #\n",
    "modelo = pyo.ConcreteModel() # Objeto do tipo ConcreteModel"
   ]
  },
  {
   "cell_type": "code",
   "execution_count": 4,
   "metadata": {},
   "outputs": [],
   "source": [
    "# --- Declaração dos Conjuntos de Iteração --- #\n",
    "modelo.tratores = pyo.Set(initialize=lista_tratores) # Conjunto de tratores\n",
    "modelo.construcoes = pyo.Set(initialize=lista_construcoes) # Conjunto de construções"
   ]
  },
  {
   "cell_type": "code",
   "execution_count": 5,
   "metadata": {},
   "outputs": [],
   "source": [
    "# --- Declaração das Variáveis de Decisão --- #\n",
    "modelo.x = pyo.Var(modelo.tratores, modelo.construcoes, within=pyo.Binary) # x_ij = 1 se o trator i for designado para a construção j, 0 caso contrário"
   ]
  },
  {
   "cell_type": "code",
   "execution_count": 6,
   "metadata": {},
   "outputs": [],
   "source": [
    "# --- Declaração dos Parâmetros do Modelo --- #\n",
    "modelo.custo_movimentacao = pyo.Param(modelo.tratores, modelo.construcoes, initialize=custo_designacao) # Custo de movimentação do trator i para a construção j"
   ]
  },
  {
   "cell_type": "code",
   "execution_count": 7,
   "metadata": {},
   "outputs": [],
   "source": [
    "# --- Declaracao da Função Objetivo --- #\n",
    "def funcao_objetivo(modelo):\n",
    "    return sum(modelo.custo_movimentacao[i, j] * modelo.x[i, j] for i in modelo.tratores for j in modelo.construcoes) # Minimizar o custo total de movimentação\n",
    "modelo.objetivo = pyo.Objective(rule=funcao_objetivo, sense=pyo.minimize) # Função objetivo"
   ]
  },
  {
   "cell_type": "code",
   "execution_count": 8,
   "metadata": {},
   "outputs": [],
   "source": [
    "# --- Declaração das Restrições --- #\n",
    "def restricao_tratores(modelo, i):\n",
    "    return sum(modelo.x[i, :]) <= 1\n",
    "modelo.rest_tratores = pyo.Constraint(modelo.tratores, rule=restricao_tratores) # Restrição de que cada trator deve ser designado para uma única construção\n",
    "# ---\n",
    "def restricao_construcoes(modelo, j):\n",
    "    return sum(modelo.x[:, j]) == 1\n",
    "modelo.rest_construcoes = pyo.Constraint(modelo.construcoes, rule=restricao_construcoes) # Restrição de que cada construção deve ser designada para um único trator"
   ]
  },
  {
   "cell_type": "code",
   "execution_count": 9,
   "metadata": {},
   "outputs": [
    {
     "data": {
      "text/plain": [
       "{'Problem': [{'Name': 'x1', 'Lower bound': 9.0, 'Upper bound': 9.0, 'Number of objectives': 1, 'Number of constraints': 8, 'Number of variables': 15, 'Number of binary variables': 15, 'Number of integer variables': 15, 'Number of continuous variables': 0, 'Number of nonzeros': 30, 'Sense': 'minimize'}], 'Solver': [{'Status': 'ok', 'Return code': '0', 'Message': 'Model was solved to optimality (subject to tolerances), and an optimal solution is available.', 'Termination condition': 'optimal', 'Termination message': 'Model was solved to optimality (subject to tolerances), and an optimal solution is available.', 'Wall time': '0.016000032424926758', 'Error rc': 0, 'Time': 1.5269384384155273}], 'Solution': [OrderedDict({'number of solutions': 0, 'number of solutions displayed': 0})]}"
      ]
     },
     "execution_count": 9,
     "metadata": {},
     "output_type": "execute_result"
    }
   ],
   "source": [
    "# --- Declaração do Solver --- #\n",
    "solver = pyo.SolverFactory('gurobi') # Solver Gurobi\n",
    "solver.solve(modelo)"
   ]
  },
  {
   "cell_type": "code",
   "execution_count": 16,
   "metadata": {},
   "outputs": [
    {
     "name": "stdout",
     "output_type": "stream",
     "text": [
      "Função Objetivo: 9.0\n"
     ]
    }
   ],
   "source": [
    "print(f'Função Objetivo: {modelo.objetivo()}') # Função objetivo"
   ]
  },
  {
   "cell_type": "code",
   "execution_count": 10,
   "metadata": {},
   "outputs": [
    {
     "name": "stdout",
     "output_type": "stream",
     "text": [
      "x : Size=15, Index=tratores*construcoes\n",
      "    Key          : Lower : Value : Upper : Fixed : Stale : Domain\n",
      "    ('T1', 'C1') :     0 :   0.0 :     1 : False : False : Binary\n",
      "    ('T1', 'C2') :     0 :   1.0 :     1 : False : False : Binary\n",
      "    ('T1', 'C3') :     0 :  -0.0 :     1 : False : False : Binary\n",
      "    ('T2', 'C1') :     0 :  -0.0 :     1 : False : False : Binary\n",
      "    ('T2', 'C2') :     0 :  -0.0 :     1 : False : False : Binary\n",
      "    ('T2', 'C3') :     0 :  -0.0 :     1 : False : False : Binary\n",
      "    ('T3', 'C1') :     0 :   1.0 :     1 : False : False : Binary\n",
      "    ('T3', 'C2') :     0 :  -0.0 :     1 : False : False : Binary\n",
      "    ('T3', 'C3') :     0 :  -0.0 :     1 : False : False : Binary\n",
      "    ('T4', 'C1') :     0 :  -0.0 :     1 : False : False : Binary\n",
      "    ('T4', 'C2') :     0 :  -0.0 :     1 : False : False : Binary\n",
      "    ('T4', 'C3') :     0 :  -0.0 :     1 : False : False : Binary\n",
      "    ('T5', 'C1') :     0 :  -0.0 :     1 : False : False : Binary\n",
      "    ('T5', 'C2') :     0 :  -0.0 :     1 : False : False : Binary\n",
      "    ('T5', 'C3') :     0 :   1.0 :     1 : False : False : Binary\n"
     ]
    }
   ],
   "source": [
    "modelo.x.display()"
   ]
  },
  {
   "cell_type": "code",
   "execution_count": 18,
   "metadata": {},
   "outputs": [],
   "source": [
    "# --- Extração dos Resultados --- #\n",
    "dados_designacao = [{'Trator': i, 'Construção': j, 'Designado': val}\n",
    "                    for (i, j), val in modelo.x.extract_values().items()]\n",
    "# ---\n",
    "resultados = pd.DataFrame(dados_designacao).pivot(index='Trator', \n",
    "                                                  columns='Construção',\n",
    "                                                  values='Designado')\n",
    "# ---\n",
    "resultados.to_excel('_ex_05_resultados_modelo_matematico.xlsx')"
   ]
  }
 ],
 "metadata": {
  "kernelspec": {
   "display_name": "optimization",
   "language": "python",
   "name": "python3"
  },
  "language_info": {
   "codemirror_mode": {
    "name": "ipython",
    "version": 3
   },
   "file_extension": ".py",
   "mimetype": "text/x-python",
   "name": "python",
   "nbconvert_exporter": "python",
   "pygments_lexer": "ipython3",
   "version": "3.12.5"
  }
 },
 "nbformat": 4,
 "nbformat_minor": 2
}
