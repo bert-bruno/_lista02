{
 "cells": [
  {
   "cell_type": "markdown",
   "metadata": {},
   "source": [
    "# Exercício 6\n",
    "\n",
    "A Metalúrgica Araucária S/A, dentro de 60 dias, deverá começar a funcionar em\n",
    "sua nova sede localizada na Cidade Industrial de Curitiba (CIC). O Presidente\n",
    "da Metalúrgica deseja que a distribuição das salas, dessa nova instalação, seja\n",
    "feita de modo a atender, na medida do possível, as preferências já manifestadas.\n",
    "Em uma pesquisa realizada, os Diretores manifestaram as suas preferências:\n",
    "\n",
    "| **Diretor/Sala** \t| **Sala 1** \t| **Sala 2** \t| **Sala 3** \t| **Sala 4** \t| **Sala 5** \t| **Sala 6** \t|\n",
    "|:----------------:\t|:----------:\t|:----------:\t|:----------:\t|:----------:\t|:----------:\t|:----------:\t|\n",
    "|   **Diretor 1**  \t|      2     \t|      4     \t|      3     \t|      1     \t|      5     \t|      6     \t|\n",
    "|   **Diretor 2**  \t|      1     \t|      5     \t|      4     \t|      6     \t|      3     \t|      2     \t|\n",
    "|   **Diretor 3**  \t|      5     \t|      3     \t|      4     \t|      2     \t|      1     \t|      6     \t|\n",
    "|   **Diretor 4**  \t|      1     \t|      3     \t|      2     \t|      4     \t|      6     \t|      5     \t|\n",
    "|   **Diretor 5**  \t|      3     \t|      2     \t|      5     \t|      6     \t|      1     \t|      3     \t|\n",
    "\n",
    "Se você fosse convidado a opinar sobre a distribuição das salas qual seria a sua recomendação?\n",
    "\n",
    "# Solução\n",
    "\n",
    "Trata-se de um problema de designação desbalanceado, contendo mais salas do que diretores.\n",
    "\n",
    "## Modelo Matemático\n",
    "\n",
    "### Função Objetivo\n",
    "\n",
    "$$ min \\ Z = \\sum_{i \\in I} \\sum_{j \\in J} c_{ij}x_{ij} $$\n",
    "\n",
    "### Sujeito a\n",
    "\n",
    "$$\n",
    "\\sum_{i \\in I} x_{ij} \\le 1, \\ \\forall j \\in J \\ \\dots \\ (1)\n",
    "$$\n",
    "\n",
    "$$\n",
    "\\sum_{j \\in J} x_{ij} = 1, \\ \\forall i \\in I \\ \\dots \\ (2)\n",
    "$$\n",
    "\n",
    "$$\n",
    "x_{ij} \\in \\set{0, 1}, \\forall i \\in I, \\forall j \\in J \\ \\dots \\ (3)\n",
    "$$"
   ]
  },
  {
   "cell_type": "code",
   "execution_count": 1,
   "metadata": {},
   "outputs": [],
   "source": [
    "# --- Imports --- #\n",
    "import pyomo.environ as pyo\n",
    "import numpy as np\n",
    "import pandas as pd"
   ]
  },
  {
   "cell_type": "code",
   "execution_count": 3,
   "metadata": {},
   "outputs": [],
   "source": [
    "# --- Declaração dos Dados de Entrada --- #\n",
    "# Matriz de Preferências\n",
    "matriz_preferencias = np.array([[2, 4, 3, 1, 5, 6],\n",
    "                                [1, 5, 4, 6, 3, 2],\n",
    "                                [5, 3, 4, 2, 1, 6],\n",
    "                                [1, 3, 2, 4, 6, 5],\n",
    "                                [3, 2, 5, 6, 1, 3]])\n",
    "lista_diretores = ['D1', 'D2', 'D3', 'D4', 'D5']\n",
    "lista_salas = ['S1', 'S2', 'S3', 'S4', 'S5', 'S6']\n",
    "custo_preferencia = {(lista_diretores[i], lista_salas[j]): matriz_preferencias[i, j] for i in range(len(lista_diretores))\n",
    "                     for j in range(len(lista_salas))} # Custo de preferência de cada diretor por sala"
   ]
  },
  {
   "cell_type": "code",
   "execution_count": 15,
   "metadata": {},
   "outputs": [],
   "source": [
    "# --- Declaração do Modelo Matemático --- #\n",
    "modelo = pyo.ConcreteModel() # Objeto de modelo concreto do Pyomo"
   ]
  },
  {
   "cell_type": "code",
   "execution_count": 16,
   "metadata": {},
   "outputs": [],
   "source": [
    "# --- Declaração dos Conjunto de Iteração do Modelo --- #\n",
    "modelo.diretores = pyo.Set(initialize=lista_diretores) # Conjunto de diretores\n",
    "modelo.salas = pyo.Set(initialize=lista_salas) # Conjunto de salas"
   ]
  },
  {
   "cell_type": "code",
   "execution_count": 17,
   "metadata": {},
   "outputs": [],
   "source": [
    "# --- Declaração dos Parâmetros do Modelo --- #\n",
    "modelo.custo_performance = pyo.Param(modelo.diretores, modelo.salas, initialize=custo_preferencia) # Custo de preferência de cada diretor por sala"
   ]
  },
  {
   "cell_type": "code",
   "execution_count": 18,
   "metadata": {},
   "outputs": [],
   "source": [
    "# --- Declaração das Variáveis de Decisão do Modelo --- #\n",
    "modelo.x = pyo.Var(modelo.diretores, modelo.salas, domain=pyo.Binary) # Variável binária de alocação de diretores nas salas"
   ]
  },
  {
   "cell_type": "code",
   "execution_count": 19,
   "metadata": {},
   "outputs": [],
   "source": [
    "# --- Declaração da Função Objetivo do Modelo --- #\n",
    "def funcao_objetivo(modelo):\n",
    "    return sum(modelo.custo_performance[i, j] * modelo.x[i, j] \n",
    "               for i in modelo.diretores for j in modelo.salas)\n",
    "# ---\n",
    "modelo.objetivo = pyo.Objective(rule=funcao_objetivo, sense=pyo.minimize) # Função objetivo de minimização"
   ]
  },
  {
   "cell_type": "code",
   "execution_count": 20,
   "metadata": {},
   "outputs": [],
   "source": [
    "# --- Declaração das Restrições do Modelo --- #\n",
    "# -- Restrição de alocação de diretores em salas -- #\n",
    "def restricao_diretores(modelo, i):\n",
    "    '''\n",
    "    Cada um dos diretores deve ser alocado em uma única sala.\n",
    "    '''\n",
    "    return sum(modelo.x[i, :]) == 1\n",
    "modelo.rest_diretores = pyo.Constraint(modelo.diretores, rule=restricao_diretores)\n",
    "# ---\n",
    "# -- Restrição de alocação de salas para diretores -- #\n",
    "def restricao_salas(modelo, j):\n",
    "    '''\n",
    "    Cada uma das salas deve ser alocada para um único diretor, exceto as que excedam o número\n",
    "    de diretores.\n",
    "    '''\n",
    "    return sum(modelo.x[:, j]) <= 1\n",
    "modelo.rest_salas = pyo.Constraint(modelo.salas, rule=restricao_salas)"
   ]
  },
  {
   "cell_type": "code",
   "execution_count": 21,
   "metadata": {},
   "outputs": [
    {
     "name": "stdout",
     "output_type": "stream",
     "text": [
      "2 Set Declarations\n",
      "    diretores : Size=1, Index=None, Ordered=Insertion\n",
      "        Key  : Dimen : Domain : Size : Members\n",
      "        None :     1 :    Any :    5 : {'D1', 'D2', 'D3', 'D4', 'D5'}\n",
      "    salas : Size=1, Index=None, Ordered=Insertion\n",
      "        Key  : Dimen : Domain : Size : Members\n",
      "        None :     1 :    Any :    6 : {'S1', 'S2', 'S3', 'S4', 'S5', 'S6'}\n",
      "\n",
      "1 Param Declarations\n",
      "    custo_performance : Size=30, Index=diretores*salas, Domain=Any, Default=None, Mutable=False\n",
      "        Key          : Value\n",
      "        ('D1', 'S1') :     2\n",
      "        ('D1', 'S2') :     4\n",
      "        ('D1', 'S3') :     3\n",
      "        ('D1', 'S4') :     1\n",
      "        ('D1', 'S5') :     5\n",
      "        ('D1', 'S6') :     6\n",
      "        ('D2', 'S1') :     1\n",
      "        ('D2', 'S2') :     5\n",
      "        ('D2', 'S3') :     4\n",
      "        ('D2', 'S4') :     6\n",
      "        ('D2', 'S5') :     3\n",
      "        ('D2', 'S6') :     2\n",
      "        ('D3', 'S1') :     5\n",
      "        ('D3', 'S2') :     3\n",
      "        ('D3', 'S3') :     4\n",
      "        ('D3', 'S4') :     2\n",
      "        ('D3', 'S5') :     1\n",
      "        ('D3', 'S6') :     6\n",
      "        ('D4', 'S1') :     1\n",
      "        ('D4', 'S2') :     3\n",
      "        ('D4', 'S3') :     2\n",
      "        ('D4', 'S4') :     4\n",
      "        ('D4', 'S5') :     6\n",
      "        ('D4', 'S6') :     5\n",
      "        ('D5', 'S1') :     3\n",
      "        ('D5', 'S2') :     2\n",
      "        ('D5', 'S3') :     5\n",
      "        ('D5', 'S4') :     6\n",
      "        ('D5', 'S5') :     1\n",
      "        ('D5', 'S6') :     3\n",
      "\n",
      "1 Var Declarations\n",
      "    x : Size=30, Index=diretores*salas\n",
      "        Key          : Lower : Value : Upper : Fixed : Stale : Domain\n",
      "        ('D1', 'S1') :     0 :  None :     1 : False :  True : Binary\n",
      "        ('D1', 'S2') :     0 :  None :     1 : False :  True : Binary\n",
      "        ('D1', 'S3') :     0 :  None :     1 : False :  True : Binary\n",
      "        ('D1', 'S4') :     0 :  None :     1 : False :  True : Binary\n",
      "        ('D1', 'S5') :     0 :  None :     1 : False :  True : Binary\n",
      "        ('D1', 'S6') :     0 :  None :     1 : False :  True : Binary\n",
      "        ('D2', 'S1') :     0 :  None :     1 : False :  True : Binary\n",
      "        ('D2', 'S2') :     0 :  None :     1 : False :  True : Binary\n",
      "        ('D2', 'S3') :     0 :  None :     1 : False :  True : Binary\n",
      "        ('D2', 'S4') :     0 :  None :     1 : False :  True : Binary\n",
      "        ('D2', 'S5') :     0 :  None :     1 : False :  True : Binary\n",
      "        ('D2', 'S6') :     0 :  None :     1 : False :  True : Binary\n",
      "        ('D3', 'S1') :     0 :  None :     1 : False :  True : Binary\n",
      "        ('D3', 'S2') :     0 :  None :     1 : False :  True : Binary\n",
      "        ('D3', 'S3') :     0 :  None :     1 : False :  True : Binary\n",
      "        ('D3', 'S4') :     0 :  None :     1 : False :  True : Binary\n",
      "        ('D3', 'S5') :     0 :  None :     1 : False :  True : Binary\n",
      "        ('D3', 'S6') :     0 :  None :     1 : False :  True : Binary\n",
      "        ('D4', 'S1') :     0 :  None :     1 : False :  True : Binary\n",
      "        ('D4', 'S2') :     0 :  None :     1 : False :  True : Binary\n",
      "        ('D4', 'S3') :     0 :  None :     1 : False :  True : Binary\n",
      "        ('D4', 'S4') :     0 :  None :     1 : False :  True : Binary\n",
      "        ('D4', 'S5') :     0 :  None :     1 : False :  True : Binary\n",
      "        ('D4', 'S6') :     0 :  None :     1 : False :  True : Binary\n",
      "        ('D5', 'S1') :     0 :  None :     1 : False :  True : Binary\n",
      "        ('D5', 'S2') :     0 :  None :     1 : False :  True : Binary\n",
      "        ('D5', 'S3') :     0 :  None :     1 : False :  True : Binary\n",
      "        ('D5', 'S4') :     0 :  None :     1 : False :  True : Binary\n",
      "        ('D5', 'S5') :     0 :  None :     1 : False :  True : Binary\n",
      "        ('D5', 'S6') :     0 :  None :     1 : False :  True : Binary\n",
      "\n",
      "1 Objective Declarations\n",
      "    objetivo : Size=1, Index=None, Active=True\n",
      "        Key  : Active : Sense    : Expression\n",
      "        None :   True : minimize : 2*x[D1,S1] + 4*x[D1,S2] + 3*x[D1,S3] + x[D1,S4] + 5*x[D1,S5] + 6*x[D1,S6] + x[D2,S1] + 5*x[D2,S2] + 4*x[D2,S3] + 6*x[D2,S4] + 3*x[D2,S5] + 2*x[D2,S6] + 5*x[D3,S1] + 3*x[D3,S2] + 4*x[D3,S3] + 2*x[D3,S4] + x[D3,S5] + 6*x[D3,S6] + x[D4,S1] + 3*x[D4,S2] + 2*x[D4,S3] + 4*x[D4,S4] + 6*x[D4,S5] + 5*x[D4,S6] + 3*x[D5,S1] + 2*x[D5,S2] + 5*x[D5,S3] + 6*x[D5,S4] + x[D5,S5] + 3*x[D5,S6]\n",
      "\n",
      "2 Constraint Declarations\n",
      "    rest_diretores : Size=5, Index=diretores, Active=True\n",
      "        Key : Lower : Body                                                            : Upper : Active\n",
      "         D1 :   1.0 : x[D1,S1] + x[D1,S2] + x[D1,S3] + x[D1,S4] + x[D1,S5] + x[D1,S6] :   1.0 :   True\n",
      "         D2 :   1.0 : x[D2,S1] + x[D2,S2] + x[D2,S3] + x[D2,S4] + x[D2,S5] + x[D2,S6] :   1.0 :   True\n",
      "         D3 :   1.0 : x[D3,S1] + x[D3,S2] + x[D3,S3] + x[D3,S4] + x[D3,S5] + x[D3,S6] :   1.0 :   True\n",
      "         D4 :   1.0 : x[D4,S1] + x[D4,S2] + x[D4,S3] + x[D4,S4] + x[D4,S5] + x[D4,S6] :   1.0 :   True\n",
      "         D5 :   1.0 : x[D5,S1] + x[D5,S2] + x[D5,S3] + x[D5,S4] + x[D5,S5] + x[D5,S6] :   1.0 :   True\n",
      "    rest_salas : Size=6, Index=salas, Active=True\n",
      "        Key : Lower : Body                                                 : Upper : Active\n",
      "         S1 :  -Inf : x[D1,S1] + x[D2,S1] + x[D3,S1] + x[D4,S1] + x[D5,S1] :   1.0 :   True\n",
      "         S2 :  -Inf : x[D1,S2] + x[D2,S2] + x[D3,S2] + x[D4,S2] + x[D5,S2] :   1.0 :   True\n",
      "         S3 :  -Inf : x[D1,S3] + x[D2,S3] + x[D3,S3] + x[D4,S3] + x[D5,S3] :   1.0 :   True\n",
      "         S4 :  -Inf : x[D1,S4] + x[D2,S4] + x[D3,S4] + x[D4,S4] + x[D5,S4] :   1.0 :   True\n",
      "         S5 :  -Inf : x[D1,S5] + x[D2,S5] + x[D3,S5] + x[D4,S5] + x[D5,S5] :   1.0 :   True\n",
      "         S6 :  -Inf : x[D1,S6] + x[D2,S6] + x[D3,S6] + x[D4,S6] + x[D5,S6] :   1.0 :   True\n",
      "\n",
      "7 Declarations: diretores salas custo_performance x objetivo rest_diretores rest_salas\n"
     ]
    }
   ],
   "source": [
    "modelo.pprint()"
   ]
  },
  {
   "cell_type": "code",
   "execution_count": 22,
   "metadata": {},
   "outputs": [
    {
     "data": {
      "text/plain": [
       "('modelo.lp', 2963884584464)"
      ]
     },
     "execution_count": 22,
     "metadata": {},
     "output_type": "execute_result"
    }
   ],
   "source": [
    "modelo.write('modelo.lp', io_options={'symbolic_solver_labels': True})"
   ]
  },
  {
   "cell_type": "code",
   "execution_count": 23,
   "metadata": {},
   "outputs": [
    {
     "data": {
      "text/plain": [
       "{'Problem': [{'Name': 'x1', 'Lower bound': 7.0, 'Upper bound': 7.0, 'Number of objectives': 1, 'Number of constraints': 11, 'Number of variables': 30, 'Number of binary variables': 30, 'Number of integer variables': 30, 'Number of continuous variables': 0, 'Number of nonzeros': 60, 'Sense': 'minimize'}], 'Solver': [{'Status': 'ok', 'Return code': '0', 'Message': 'Model was solved to optimality (subject to tolerances), and an optimal solution is available.', 'Termination condition': 'optimal', 'Termination message': 'Model was solved to optimality (subject to tolerances), and an optimal solution is available.', 'Wall time': '0.003999948501586914', 'Error rc': 0, 'Time': 0.9265580177307129}], 'Solution': [OrderedDict({'number of solutions': 0, 'number of solutions displayed': 0})]}"
      ]
     },
     "execution_count": 23,
     "metadata": {},
     "output_type": "execute_result"
    }
   ],
   "source": [
    "# --- Declaração do Solver --- # \n",
    "solver = pyo.SolverFactory('gurobi') # Instanciação do solver Gurobi\n",
    "solver.solve(modelo) # Resolução do modelo"
   ]
  },
  {
   "cell_type": "code",
   "execution_count": 24,
   "metadata": {},
   "outputs": [
    {
     "name": "stdout",
     "output_type": "stream",
     "text": [
      "Função Objetivo: 7.0\n"
     ]
    }
   ],
   "source": [
    "print(f'Função Objetivo: {modelo.objetivo()}')"
   ]
  },
  {
   "cell_type": "code",
   "execution_count": 25,
   "metadata": {},
   "outputs": [
    {
     "name": "stdout",
     "output_type": "stream",
     "text": [
      "x : Size=30, Index=diretores*salas\n",
      "    Key          : Lower : Value : Upper : Fixed : Stale : Domain\n",
      "    ('D1', 'S1') :     0 :  -0.0 :     1 : False : False : Binary\n",
      "    ('D1', 'S2') :     0 :  -0.0 :     1 : False : False : Binary\n",
      "    ('D1', 'S3') :     0 :  -0.0 :     1 : False : False : Binary\n",
      "    ('D1', 'S4') :     0 :   1.0 :     1 : False : False : Binary\n",
      "    ('D1', 'S5') :     0 :  -0.0 :     1 : False : False : Binary\n",
      "    ('D1', 'S6') :     0 :  -0.0 :     1 : False : False : Binary\n",
      "    ('D2', 'S1') :     0 :   1.0 :     1 : False : False : Binary\n",
      "    ('D2', 'S2') :     0 :  -0.0 :     1 : False : False : Binary\n",
      "    ('D2', 'S3') :     0 :  -0.0 :     1 : False : False : Binary\n",
      "    ('D2', 'S4') :     0 :  -0.0 :     1 : False : False : Binary\n",
      "    ('D2', 'S5') :     0 :  -0.0 :     1 : False : False : Binary\n",
      "    ('D2', 'S6') :     0 :  -0.0 :     1 : False : False : Binary\n",
      "    ('D3', 'S1') :     0 :  -0.0 :     1 : False : False : Binary\n",
      "    ('D3', 'S2') :     0 :  -0.0 :     1 : False : False : Binary\n",
      "    ('D3', 'S3') :     0 :  -0.0 :     1 : False : False : Binary\n",
      "    ('D3', 'S4') :     0 :  -0.0 :     1 : False : False : Binary\n",
      "    ('D3', 'S5') :     0 :   1.0 :     1 : False : False : Binary\n",
      "    ('D3', 'S6') :     0 :  -0.0 :     1 : False : False : Binary\n",
      "    ('D4', 'S1') :     0 :   0.0 :     1 : False : False : Binary\n",
      "    ('D4', 'S2') :     0 :  -0.0 :     1 : False : False : Binary\n",
      "    ('D4', 'S3') :     0 :   1.0 :     1 : False : False : Binary\n",
      "    ('D4', 'S4') :     0 :  -0.0 :     1 : False : False : Binary\n",
      "    ('D4', 'S5') :     0 :  -0.0 :     1 : False : False : Binary\n",
      "    ('D4', 'S6') :     0 :  -0.0 :     1 : False : False : Binary\n",
      "    ('D5', 'S1') :     0 :  -0.0 :     1 : False : False : Binary\n",
      "    ('D5', 'S2') :     0 :   1.0 :     1 : False : False : Binary\n",
      "    ('D5', 'S3') :     0 :  -0.0 :     1 : False : False : Binary\n",
      "    ('D5', 'S4') :     0 :  -0.0 :     1 : False : False : Binary\n",
      "    ('D5', 'S5') :     0 :   0.0 :     1 : False : False : Binary\n",
      "    ('D5', 'S6') :     0 :  -0.0 :     1 : False : False : Binary\n"
     ]
    }
   ],
   "source": [
    "modelo.x.display() # Exibição da alocação de diretores nas salas"
   ]
  },
  {
   "cell_type": "code",
   "execution_count": 27,
   "metadata": {},
   "outputs": [],
   "source": [
    "# --- Extração dos Resultados --- #\n",
    "dados_designacao = [{'Diretor': i, 'Sala': j, 'Designado': val}\n",
    "                    for (i, j), val in modelo.x.extract_values().items()]\n",
    "# ---\n",
    "resultados = pd.DataFrame(dados_designacao).pivot(index='Diretor',\n",
    "                                                  columns='Sala',\n",
    "                                                  values='Designado')\n",
    "resultados.to_excel('_ex_06_resultados_modelo_matematico.xlsx')"
   ]
  }
 ],
 "metadata": {
  "kernelspec": {
   "display_name": "optimization",
   "language": "python",
   "name": "python3"
  },
  "language_info": {
   "codemirror_mode": {
    "name": "ipython",
    "version": 3
   },
   "file_extension": ".py",
   "mimetype": "text/x-python",
   "name": "python",
   "nbconvert_exporter": "python",
   "pygments_lexer": "ipython3",
   "version": "3.12.5"
  }
 },
 "nbformat": 4,
 "nbformat_minor": 2
}
