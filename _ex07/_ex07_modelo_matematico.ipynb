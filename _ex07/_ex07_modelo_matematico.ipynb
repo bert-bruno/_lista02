{
 "cells": [
  {
   "cell_type": "markdown",
   "metadata": {},
   "source": [
    "# Exercício 7\n",
    "\n",
    "Uma Família está para se mudar de cidade. Para tanto, ela contratou uma\n",
    "transportadora que colocou a sua disposição um caminhão-baú com capacidade\n",
    "volumétrica de 30m3. Infelizmente, não há como transportar todos os pertences\n",
    "da família, de modo que ficou resolvido que será adotado uma estratégia que\n",
    "minimize o prejuízo total ao se desfazer dos bens que não serão transportados.\n",
    "Na tabela a seguir estão os dados levantados pela família. Desconsiderando o\n",
    "aspecto de arranjo da carga no compartimento do caminhão, determinar quais os\n",
    "bens que deverão ser transportados\n",
    "\n",
    "|  **Descrição do Item**  \t| **Volume(m³)** \t| **Prejuízo (R$)** \t|\n",
    "|:-----------------------:\t|:--------------:\t|:-----------------:\t|\n",
    "|      **Sala Estar**     \t|        8       \t|        6000       \t|\n",
    "|     **Sala Jantar**     \t|        7       \t|        8000       \t|\n",
    "| **Dormitório do Casal** \t|        9       \t|       10000       \t|\n",
    "| **Dormitório do filho** \t|        6       \t|        5000       \t|\n",
    "|       **Cozinha**       \t|        5       \t|        6000       \t|\n",
    "\n",
    "# Solução \n",
    "\n",
    "## Modelo Matemático Formal\n",
    "\n",
    "$$\n",
    "\\begin{align*}\n",
    "\\text{Minimizar} Z &= 6000(1-x_1) + 8000(1-x_2) + 10000(1-x_3) + 5000(1-x_4) + 6000(1-x_5) \\\\[10pt]\n",
    "\\text{Sujeito a:} \\\\\n",
    "8x_1 + 7x_2 + 9x_3 + 6x_4 + 5x_5 &\\leq 30 \\\\[5pt]\n",
    "x_i &\\in \\{0,1\\} \\quad \\forall i \\in \\{1,\\ldots,5\\}\n",
    "\\end{align*}\n",
    "$$\n",
    "\n",
    "$$\n",
    "\\begin{align*}\n",
    "\\text{Parâmetros:} \\\\[5pt]\n",
    "v_i &= \\text{volume do item } i \\\\\n",
    "p_i &= \\text{prejuízo caso o item } i \\text{ não seja transportado} \\\\\n",
    "C &= \\text{capacidade do caminhão (30m³)} \\\\[5pt]\n",
    "\\text{onde } &i \\in \\{1,\\ldots,5\\}\n",
    "\\end{align*}\n",
    "$$"
   ]
  },
  {
   "cell_type": "code",
   "execution_count": 1,
   "metadata": {},
   "outputs": [],
   "source": [
    "# --- Imports --- #\n",
    "import pyomo.environ as pyo\n",
    "import pandas as pd\n",
    "import numpy as np"
   ]
  },
  {
   "cell_type": "code",
   "execution_count": 5,
   "metadata": {},
   "outputs": [],
   "source": [
    "# --- Declaração dos dados de entrada --- # \n",
    "lista_ambientes = ['SalaEstar', 'SalaJantar', 'DormCasal', 'DormFilho', 'Cozinha']\n",
    "# --\n",
    "volumes = {'SalaEstar': 8, \n",
    "           'SalaJantar': 7, \n",
    "           'DormCasal': 9, \n",
    "           'DormFilho': 6, \n",
    "           'Cozinha': 5}\n",
    "# --\n",
    "prejuizos = {'SalaEstar': 6000, \n",
    "             'SalaJantar': 8000, \n",
    "             'DormCasal': 10000, \n",
    "             'DormFilho': 5000, \n",
    "             'Cozinha': 6000}\n",
    "# --\n",
    "capacidade_caminhao = 30"
   ]
  },
  {
   "cell_type": "code",
   "execution_count": 27,
   "metadata": {},
   "outputs": [],
   "source": [
    "# --- Declaração do Modelo Matemático --- #\n",
    "modelo = pyo.ConcreteModel()"
   ]
  },
  {
   "cell_type": "code",
   "execution_count": 28,
   "metadata": {},
   "outputs": [],
   "source": [
    "# --- Declaração dos Conjuntos de Iteração --- #\n",
    "modelo.ambientes = pyo.Set(initialize=lista_ambientes)"
   ]
  },
  {
   "cell_type": "code",
   "execution_count": 29,
   "metadata": {},
   "outputs": [],
   "source": [
    "# --- Declaração das Variáveis de Decisão --- #\n",
    "modelo.x = pyo.Var(modelo.ambientes, domain=pyo.Binary)"
   ]
  },
  {
   "cell_type": "code",
   "execution_count": 30,
   "metadata": {},
   "outputs": [],
   "source": [
    "# --- Declaração dos Parâmetros do Modelo --- #\n",
    "modelo.capacidade_caminhao = pyo.Param(initialize=capacidade_caminhao)\n",
    "# --\n",
    "modelo.volumes = pyo.Param(modelo.ambientes, initialize=volumes)\n",
    "# --\n",
    "modelo.prejuizos = pyo.Param(modelo.ambientes, initialize=prejuizos)"
   ]
  },
  {
   "cell_type": "code",
   "execution_count": 31,
   "metadata": {},
   "outputs": [],
   "source": [
    "# --- Declaração da Função Objetivo --- #\n",
    "def funcao_objetivo(modelo):\n",
    "    return sum(modelo.prejuizos[i] * (1 - modelo.x[i]) for i in modelo.ambientes)\n",
    "modelo.objetivo = pyo.Objective(rule=funcao_objetivo, sense=pyo.minimize)"
   ]
  },
  {
   "cell_type": "code",
   "execution_count": 32,
   "metadata": {},
   "outputs": [],
   "source": [
    "# --- Declaração das restrições do modelo --- #\n",
    "def rest_volume(modelo):\n",
    "    return sum(modelo.volumes[i]*modelo.x[i] for i in modelo.ambientes) <= modelo.capacidade_caminhao\n",
    "modelo.rest_volume = pyo.Constraint(rule=rest_volume)"
   ]
  },
  {
   "cell_type": "code",
   "execution_count": 33,
   "metadata": {},
   "outputs": [],
   "source": [
    "# --- Declaração do Solver --- #\n",
    "solver = pyo.SolverFactory('gurobi')\n",
    "resultados = solver.solve(modelo)"
   ]
  },
  {
   "cell_type": "code",
   "execution_count": 34,
   "metadata": {},
   "outputs": [
    {
     "name": "stdout",
     "output_type": "stream",
     "text": [
      "\n",
      "Resultados:\n",
      "Status: ok\n",
      "Condição de parada: optimal\n",
      "\n",
      "Decisões:\n",
      "Item SalaEstar: Tranportar\n",
      "Item SalaJantar: Tranportar\n",
      "Item DormCasal: Tranportar\n",
      "Item DormFilho: Não Transportar\n",
      "Item Cozinha: Tranportar\n",
      "\n",
      "Volume Total Transportado: 29 m³\n",
      "Prejuizo Total: R$ 5000.0\n"
     ]
    }
   ],
   "source": [
    "# --- Impressão dos Resultados --- #\n",
    "print('\\nResultados:')\n",
    "print('Status:', resultados.solver.status)\n",
    "print('Condição de parada:', resultados.solver.termination_condition)\n",
    "print('\\nDecisões:')\n",
    "volume_total = 0\n",
    "items_transportados = []\n",
    "# --\n",
    "for i in modelo.ambientes:\n",
    "    if modelo.x[i].value == 1:\n",
    "        items_transportados.append(i)\n",
    "        volume_total += volumes[i]\n",
    "        print(f'Item {i}: Tranportar')\n",
    "    else:\n",
    "        print(f'Item {i}: Não Transportar')\n",
    "# --\n",
    "print('\\nVolume Total Transportado:', volume_total, 'm³')\n",
    "print('Prejuizo Total: R$', modelo.objetivo())"
   ]
  }
 ],
 "metadata": {
  "kernelspec": {
   "display_name": "optimization",
   "language": "python",
   "name": "python3"
  },
  "language_info": {
   "codemirror_mode": {
    "name": "ipython",
    "version": 3
   },
   "file_extension": ".py",
   "mimetype": "text/x-python",
   "name": "python",
   "nbconvert_exporter": "python",
   "pygments_lexer": "ipython3",
   "version": "3.12.5"
  }
 },
 "nbformat": 4,
 "nbformat_minor": 2
}
